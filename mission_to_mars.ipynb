{
 "cells": [
  {
   "cell_type": "code",
   "execution_count": 1,
   "metadata": {},
   "outputs": [],
   "source": [
    "from splinter import Browser\n",
    "from bs4 import BeautifulSoup\n"
   ]
  },
  {
   "cell_type": "markdown",
   "metadata": {},
   "source": [
    "# Windows User"
   ]
  },
  {
   "cell_type": "code",
   "execution_count": 2,
   "metadata": {},
   "outputs": [],
   "source": [
    "executable_path = {'executable_path': 'chromedriver.exe'}\n",
    "browser =Browser('chrome', **executable_path, headless=False)"
   ]
  },
  {
   "cell_type": "markdown",
   "metadata": {},
   "source": [
    "## NASA NEWS"
   ]
  },
  {
   "cell_type": "code",
   "execution_count": 3,
   "metadata": {},
   "outputs": [],
   "source": [
    "url = 'https://mars.nasa.gov/news/'\n",
    "browser.visit(url)"
   ]
  },
  {
   "cell_type": "code",
   "execution_count": 4,
   "metadata": {},
   "outputs": [
    {
     "ename": "AttributeError",
     "evalue": "'NoneType' object has no attribute 'find'",
     "output_type": "error",
     "traceback": [
      "\u001b[1;31m---------------------------------------------------------------------------\u001b[0m",
      "\u001b[1;31mAttributeError\u001b[0m                            Traceback (most recent call last)",
      "\u001b[1;32m<ipython-input-4-11d5a5e28d68>\u001b[0m in \u001b[0;36m<module>\u001b[1;34m\u001b[0m\n\u001b[0;32m      3\u001b[0m \u001b[1;33m\u001b[0m\u001b[0m\n\u001b[0;32m      4\u001b[0m \u001b[0mresult\u001b[0m \u001b[1;33m=\u001b[0m\u001b[0msoup\u001b[0m\u001b[1;33m.\u001b[0m\u001b[0mselect_one\u001b[0m\u001b[1;33m(\u001b[0m\u001b[1;34m\"ul.item_list li.slide\"\u001b[0m\u001b[1;33m)\u001b[0m\u001b[1;33m\u001b[0m\u001b[1;33m\u001b[0m\u001b[0m\n\u001b[1;32m----> 5\u001b[1;33m \u001b[0mtitle\u001b[0m \u001b[1;33m=\u001b[0m \u001b[0mresult\u001b[0m\u001b[1;33m.\u001b[0m\u001b[0mfind\u001b[0m\u001b[1;33m(\u001b[0m\u001b[1;34m'div'\u001b[0m\u001b[1;33m,\u001b[0m \u001b[0mclass_\u001b[0m\u001b[1;33m=\u001b[0m \u001b[1;34m\"content_title\"\u001b[0m\u001b[1;33m)\u001b[0m\u001b[1;33m.\u001b[0m\u001b[0mget_text\u001b[0m\u001b[1;33m(\u001b[0m\u001b[1;33m)\u001b[0m\u001b[1;33m\u001b[0m\u001b[1;33m\u001b[0m\u001b[0m\n\u001b[0m\u001b[0;32m      6\u001b[0m \u001b[0mtitle_p\u001b[0m \u001b[1;33m=\u001b[0m \u001b[0mresult\u001b[0m\u001b[1;33m.\u001b[0m\u001b[0mfind\u001b[0m\u001b[1;33m(\u001b[0m\u001b[1;34m'div'\u001b[0m\u001b[1;33m,\u001b[0m \u001b[0mclass_\u001b[0m \u001b[1;33m=\u001b[0m\u001b[1;34m\"article_teaser_body\"\u001b[0m\u001b[1;33m)\u001b[0m\u001b[1;33m.\u001b[0m\u001b[0mget_text\u001b[0m\u001b[1;33m(\u001b[0m\u001b[1;33m)\u001b[0m\u001b[1;33m\u001b[0m\u001b[1;33m\u001b[0m\u001b[0m\n",
      "\u001b[1;31mAttributeError\u001b[0m: 'NoneType' object has no attribute 'find'"
     ]
    }
   ],
   "source": [
    "html = browser.html\n",
    "soup = BeautifulSoup(html, 'html.parser')\n",
    "\n",
    "result =soup.select_one(\"ul.item_list li.slide\")\n",
    "title = result.find('div', class_= \"content_title\").get_text()\n",
    "title_p = result.find('div', class_ =\"article_teaser_body\").get_text()"
   ]
  },
  {
   "cell_type": "markdown",
   "metadata": {},
   "source": [
    "## JPL Mars Space Images - Featured Image\n",
    "\n",
    "* Visit the url for JPL Featured Space Image [here](https://www.jpl.nasa.gov/spaceimages/?search=&category=Mars).\n",
    "\n",
    "* Use splinter to navigate the site and find the image url for the current Featured Mars Image \n",
    "   and assign the url string to a variable called `featured_image_url`.\n",
    "\n",
    "* Make sure to find the image url to the full size `.jpg` image.\n",
    "\n",
    "* Make sure to save a complete url string for this image."
   ]
  },
  {
   "cell_type": "code",
   "execution_count": 5,
   "metadata": {},
   "outputs": [
    {
     "name": "stderr",
     "output_type": "stream",
     "text": [
      "C:\\ProgramData\\Anaconda3\\lib\\site-packages\\splinter\\driver\\webdriver\\__init__.py:528: FutureWarning: browser.find_link_by_partial_text is deprecated. Use browser.links.find_by_partial_text instead.\n",
      "  FutureWarning,\n"
     ]
    }
   ],
   "source": [
    "url = 'https://www.jpl.nasa.gov/spaceimages/?search=&catergory=Mars'\n",
    "browser.visit(url)\n",
    "response1 = browser.find_by_id(\"full_image\")\n",
    "response1.click()\n",
    "response2 = browser.find_link_by_partial_text('more info')\n",
    "response2.click()\n"
   ]
  },
  {
   "cell_type": "code",
   "execution_count": 6,
   "metadata": {},
   "outputs": [
    {
     "name": "stdout",
     "output_type": "stream",
     "text": [
      "/spaceimages/images/largesize/PIA16606_hires.jpg\n",
      "https://www.jpl.nasa.gov/spaceimages/images/largesize/PIA16606_hires.jpg\n"
     ]
    }
   ],
   "source": [
    "html = browser.html\n",
    "soup1 = BeautifulSoup(html, 'html.parser')\n",
    "#print(soup1)\n",
    "\n",
    "img= soup1.select_one(\"figure.lede a img\").get(\"src\")\n",
    "print(img)\n",
    "img_url = f'https://www.jpl.nasa.gov{img}'\n",
    "print(img_url)"
   ]
  },
  {
   "cell_type": "markdown",
   "metadata": {},
   "source": [
    "## Mars Weather"
   ]
  },
  {
   "cell_type": "markdown",
   "metadata": {},
   "source": [
    "\n",
    "* Visit the Mars Weather twitter account [here](https://twitter.com/marswxreport?lang=en) \n",
    "and scrape the latest Mars weather tweet from the page. \n",
    "Save the tweet text for the weather report as a variable called `mars_weather`.\n",
    "* **Note: Be sure you are not signed in to twitter, or scraping may become more difficult.**\n",
    "* **Note: Twitter frequently changes how information is presented on their website. \n",
    "    If you are having difficulty getting the correct html tag data,\n",
    "    consider researching Regular Expression Patterns and how they can be used in combination with the .find() method.**\n"
   ]
  },
  {
   "cell_type": "code",
   "execution_count": 7,
   "metadata": {},
   "outputs": [],
   "source": [
    "url = 'https://twitter.com/marswxreport?lang=en'\n",
    "browser.visit(url)\n"
   ]
  },
  {
   "cell_type": "code",
   "execution_count": 8,
   "metadata": {},
   "outputs": [
    {
     "data": {
      "text/plain": [
       "<!DOCTYPE html>\n",
       "<html dir=\"ltr\" lang=\"en\" xmlns=\"http://www.w3.org/1999/xhtml\"><head><meta charset=\"utf-8\"/>\n",
       "<meta content=\"width=device-width,initial-scale=1,maximum-scale=1,user-scalable=0,viewport-fit=cover\" name=\"viewport\"/>\n",
       "<link href=\"//abs.twimg.com\" rel=\"preconnect\"/>\n",
       "<link href=\"//api.twitter.com\" rel=\"preconnect\"/>\n",
       "<link href=\"//pbs.twimg.com\" rel=\"preconnect\"/>\n",
       "<link href=\"//t.co\" rel=\"preconnect\"/>\n",
       "<link href=\"//video.twimg.com\" rel=\"preconnect\"/>\n",
       "<link href=\"//abs.twimg.com\" rel=\"dns-prefetch\"/>\n",
       "<link href=\"//api.twitter.com\" rel=\"dns-prefetch\"/>\n",
       "<link href=\"//pbs.twimg.com\" rel=\"dns-prefetch\"/>\n",
       "<link href=\"//t.co\" rel=\"dns-prefetch\"/>\n",
       "<link href=\"//video.twimg.com\" rel=\"dns-prefetch\"/>\n",
       "<link as=\"script\" crossorigin=\"anonymous\" href=\"https://abs.twimg.com/responsive-web/web/polyfills.bab5fe74.js\" nonce=\"\" rel=\"preload\"/>\n",
       "<link as=\"script\" crossorigin=\"anonymous\" href=\"https://abs.twimg.com/responsive-web/web/vendors~main.e0482f54.js\" nonce=\"\" rel=\"preload\"/>\n",
       "<link as=\"script\" crossorigin=\"anonymous\" href=\"https://abs.twimg.com/responsive-web/web/i18n-rweb/en.5ba57774.js\" nonce=\"\" rel=\"preload\"/>\n",
       "<link as=\"script\" crossorigin=\"anonymous\" href=\"https://abs.twimg.com/responsive-web/web/i18n-horizon/en.9dc24af4.js\" nonce=\"\" rel=\"preload\"/>\n",
       "<link as=\"script\" crossorigin=\"anonymous\" href=\"https://abs.twimg.com/responsive-web/web/main.9aaa67d4.js\" nonce=\"\" rel=\"preload\"/>\n",
       "<meta content=\"2231777543\" property=\"fb:app_id\"/>\n",
       "<meta content=\"Twitter\" property=\"og:site_name\"/>\n",
       "<meta content=\"V0yIS0Ec_o3Ii9KThrCoMCkwTYMMJ_JYx_RSaGhFYvw\" name=\"google-site-verification\"/>\n",
       "<link crossorigin=\"use-credentials\" href=\"/manifest.json\" rel=\"manifest\"/>\n",
       "<link href=\"https://twitter.com/marswxreport?lang=en\" hreflang=\"x-default\" rel=\"alternate\"/>\n",
       "<link href=\"https://twitter.com/marswxreport?lang=ar\" hreflang=\"ar\" rel=\"alternate\"/>\n",
       "<link href=\"https://twitter.com/marswxreport?lang=bg\" hreflang=\"bg\" rel=\"alternate\"/>\n",
       "<link href=\"https://twitter.com/marswxreport?lang=bn\" hreflang=\"bn\" rel=\"alternate\"/>\n",
       "<link href=\"https://twitter.com/marswxreport?lang=ca\" hreflang=\"ca\" rel=\"alternate\"/>\n",
       "<link href=\"https://twitter.com/marswxreport?lang=cs\" hreflang=\"cs\" rel=\"alternate\"/>\n",
       "<link href=\"https://twitter.com/marswxreport?lang=da\" hreflang=\"da\" rel=\"alternate\"/>\n",
       "<link href=\"https://twitter.com/marswxreport?lang=de\" hreflang=\"de\" rel=\"alternate\"/>\n",
       "<link href=\"https://twitter.com/marswxreport?lang=el\" hreflang=\"el\" rel=\"alternate\"/>\n",
       "<link href=\"https://twitter.com/marswxreport?lang=en\" hreflang=\"en\" rel=\"alternate\"/>\n",
       "<link href=\"https://twitter.com/marswxreport?lang=en-GB\" hreflang=\"en-GB\" rel=\"alternate\"/>\n",
       "<link href=\"https://twitter.com/marswxreport?lang=es\" hreflang=\"es\" rel=\"alternate\"/>\n",
       "<link href=\"https://twitter.com/marswxreport?lang=eu\" hreflang=\"eu\" rel=\"alternate\"/>\n",
       "<link href=\"https://twitter.com/marswxreport?lang=fa\" hreflang=\"fa\" rel=\"alternate\"/>\n",
       "<link href=\"https://twitter.com/marswxreport?lang=fi\" hreflang=\"fi\" rel=\"alternate\"/>\n",
       "<link href=\"https://twitter.com/marswxreport?lang=tl\" hreflang=\"tl\" rel=\"alternate\"/>\n",
       "<link href=\"https://twitter.com/marswxreport?lang=fr\" hreflang=\"fr\" rel=\"alternate\"/>\n",
       "<link href=\"https://twitter.com/marswxreport?lang=ga\" hreflang=\"ga\" rel=\"alternate\"/>\n",
       "<link href=\"https://twitter.com/marswxreport?lang=gl\" hreflang=\"gl\" rel=\"alternate\"/>\n",
       "<link href=\"https://twitter.com/marswxreport?lang=gu\" hreflang=\"gu\" rel=\"alternate\"/>\n",
       "<link href=\"https://twitter.com/marswxreport?lang=he\" hreflang=\"he\" rel=\"alternate\"/>\n",
       "<link href=\"https://twitter.com/marswxreport?lang=hi\" hreflang=\"hi\" rel=\"alternate\"/>\n",
       "<link href=\"https://twitter.com/marswxreport?lang=hr\" hreflang=\"hr\" rel=\"alternate\"/>\n",
       "<link href=\"https://twitter.com/marswxreport?lang=hu\" hreflang=\"hu\" rel=\"alternate\"/>\n",
       "<link href=\"https://twitter.com/marswxreport?lang=id\" hreflang=\"id\" rel=\"alternate\"/>\n",
       "<link href=\"https://twitter.com/marswxreport?lang=it\" hreflang=\"it\" rel=\"alternate\"/>\n",
       "<link href=\"https://twitter.com/marswxreport?lang=ja\" hreflang=\"ja\" rel=\"alternate\"/>\n",
       "<link href=\"https://twitter.com/marswxreport?lang=kn\" hreflang=\"kn\" rel=\"alternate\"/>\n",
       "<link href=\"https://twitter.com/marswxreport?lang=ko\" hreflang=\"ko\" rel=\"alternate\"/>\n",
       "<link href=\"https://twitter.com/marswxreport?lang=mr\" hreflang=\"mr\" rel=\"alternate\"/>\n",
       "<link href=\"https://twitter.com/marswxreport?lang=ms\" hreflang=\"ms\" rel=\"alternate\"/>\n",
       "<link href=\"https://twitter.com/marswxreport?lang=nb\" hreflang=\"nb\" rel=\"alternate\"/>\n",
       "<link href=\"https://twitter.com/marswxreport?lang=nl\" hreflang=\"nl\" rel=\"alternate\"/>\n",
       "<link href=\"https://twitter.com/marswxreport?lang=pl\" hreflang=\"pl\" rel=\"alternate\"/>\n",
       "<link href=\"https://twitter.com/marswxreport?lang=pt\" hreflang=\"pt\" rel=\"alternate\"/>\n",
       "<link href=\"https://twitter.com/marswxreport?lang=ro\" hreflang=\"ro\" rel=\"alternate\"/>\n",
       "<link href=\"https://twitter.com/marswxreport?lang=ru\" hreflang=\"ru\" rel=\"alternate\"/>\n",
       "<link href=\"https://twitter.com/marswxreport?lang=sk\" hreflang=\"sk\" rel=\"alternate\"/>\n",
       "<link href=\"https://twitter.com/marswxreport?lang=sr\" hreflang=\"sr\" rel=\"alternate\"/>\n",
       "<link href=\"https://twitter.com/marswxreport?lang=sv\" hreflang=\"sv\" rel=\"alternate\"/>\n",
       "<link href=\"https://twitter.com/marswxreport?lang=ta\" hreflang=\"ta\" rel=\"alternate\"/>\n",
       "<link href=\"https://twitter.com/marswxreport?lang=th\" hreflang=\"th\" rel=\"alternate\"/>\n",
       "<link href=\"https://twitter.com/marswxreport?lang=tr\" hreflang=\"tr\" rel=\"alternate\"/>\n",
       "<link href=\"https://twitter.com/marswxreport?lang=uk\" hreflang=\"uk\" rel=\"alternate\"/>\n",
       "<link href=\"https://twitter.com/marswxreport?lang=ur\" hreflang=\"ur\" rel=\"alternate\"/>\n",
       "<link href=\"https://twitter.com/marswxreport?lang=vi\" hreflang=\"vi\" rel=\"alternate\"/>\n",
       "<link href=\"https://twitter.com/marswxreport?lang=zh\" hreflang=\"zh\" rel=\"alternate\"/>\n",
       "<link href=\"https://twitter.com/marswxreport?lang=zh-Hant\" hreflang=\"zh-Hant\" rel=\"alternate\"/>\n",
       "<link data-rdm=\"\" href=\"https://twitter.com/marswxreport\" rel=\"canonical\"/>\n",
       "<link color=\"#1da1f2\" href=\"https://abs.twimg.com/responsive-web/web/icon-svg.9e211f64.svg\" rel=\"mask-icon\" sizes=\"any\"/>\n",
       "<link href=\"//abs.twimg.com/favicons/twitter.ico\" rel=\"shortcut icon\" type=\"image/x-icon\"/>\n",
       "<link href=\"https://abs.twimg.com/responsive-web/web/icon-ios.8ea219d4.png\" rel=\"apple-touch-icon\" sizes=\"192x192\"/>\n",
       "<meta content=\"yes\" name=\"mobile-web-app-capable\"/>\n",
       "<meta content=\"Twitter\" name=\"apple-mobile-web-app-title\"/>\n",
       "<meta content=\"white\" name=\"apple-mobile-web-app-status-bar-style\"/>\n",
       "<meta content=\"#ffffff\" name=\"theme-color\"/>\n",
       "<meta content=\"Ap6SMBNB0lQoXpXl4I9vyTJqJ7Y0X9tPd6Q6rN697iHdubQQxBcWHy21N3N7uEz7Ba5UKMbN+eLvDczBSbi27AsAAABfeyJvcmlnaW4iOiJodHRwczovL3R3aXR0ZXIuY29tOjQ0MyIsImZlYXR1cmUiOiJCYWRnaW5nIiwiZXhwaXJ5IjoxNTY0NTgyNzY2LCJpc1N1YmRvbWFpbiI6dHJ1ZX0=\" http-equiv=\"origin-trial\"/>\n",
       "<meta content=\"Apir4chqTX+4eFxKD+ErQlKRB/VtZ/dvnLfd9Y9Nenl5r1xJcf81alryTHYQiuUlz9Q49MqGXqyaiSmqWzHUqQwAAABneyJvcmlnaW4iOiJodHRwczovL3R3aXR0ZXIuY29tOjQ0MyIsImZlYXR1cmUiOiJDb250YWN0c01hbmFnZXIiLCJleHBpcnkiOjE1NzUwMzUyODMsImlzU3ViZG9tYWluIjp0cnVlfQ==\" http-equiv=\"origin-trial\"/>\n",
       "<meta content=\"AleGS26SZL7UA8Fe1DbvXzoay74bPTvrfKKGimIu1RI8vA+RtXOSVlizUkz2zU/fQoFoOTgCiCciP6pM5teaeQgAAABjeyJvcmlnaW4iOiJodHRwczovL3R3aXR0ZXIuY29tOjQ0MyIsImZlYXR1cmUiOiJTbXNSZWNlaXZlciIsImV4cGlyeSI6MTU3OTAyMDkyMSwiaXNTdWJkb21haW4iOnRydWV9\" http-equiv=\"origin-trial\"/>\n",
       "<style>html,body{height: 100%;}body{-ms-overflow-style:scrollbar;overflow-y:scroll;overscroll-behavior-y:none;}</style>\n",
       "<style id=\"react-native-stylesheet\">[stylesheet-group=\"0\"]{}\n",
       "html{-ms-text-size-adjust:100%;-webkit-text-size-adjust:100%;-webkit-tap-highlight-color:rgba(0,0,0,0);}\n",
       "body{margin:0;}\n",
       "button::-moz-focus-inner,input::-moz-focus-inner{border:0;padding:0;}\n",
       "input::-webkit-inner-spin-button,input::-webkit-outer-spin-button,input::-webkit-search-cancel-button,input::-webkit-search-decoration,input::-webkit-search-results-button,input::-webkit-search-results-decoration{display:none;}\n",
       "[stylesheet-group=\"0.1\"]{}\n",
       ":focus:not([data-focusvisible-polyfill]){outline: none;}\n",
       "[stylesheet-group=\"1\"]{}\n",
       ".css-1dbjc4n{-ms-flex-align:stretch;-ms-flex-direction:column;-ms-flex-negative:0;-ms-flex-preferred-size:auto;-webkit-align-items:stretch;-webkit-box-align:stretch;-webkit-box-direction:normal;-webkit-box-orient:vertical;-webkit-flex-basis:auto;-webkit-flex-direction:column;-webkit-flex-shrink:0;align-items:stretch;border:0 solid black;box-sizing:border-box;display:-webkit-box;display:-moz-box;display:-ms-flexbox;display:-webkit-flex;display:flex;flex-basis:auto;flex-direction:column;flex-shrink:0;margin-bottom:0px;margin-left:0px;margin-right:0px;margin-top:0px;min-height:0px;min-width:0px;padding-bottom:0px;padding-left:0px;padding-right:0px;padding-top:0px;position:relative;z-index:0;}\n",
       ".css-901oao{border:0 solid black;box-sizing:border-box;color:rgba(0,0,0,1.00);display:inline;font:14px system-ui,-apple-system,BlinkMacSystemFont,\"Segoe UI\",Roboto,Ubuntu,\"Helvetica Neue\",sans-serif;margin-bottom:0px;margin-left:0px;margin-right:0px;margin-top:0px;padding-bottom:0px;padding-left:0px;padding-right:0px;padding-top:0px;white-space:pre-wrap;word-wrap:break-word;}\n",
       ".css-16my406{color:inherit;font:inherit;white-space:inherit;}\n",
       "[stylesheet-group=\"2\"]{}\n",
       ".r-13awgt0{-ms-flex-negative:1;-ms-flex-positive:1;-ms-flex-preferred-size:0%;-webkit-box-flex:1;-webkit-flex-basis:0%;-webkit-flex-grow:1;-webkit-flex-shrink:1;flex-basis:0%;flex-grow:1;flex-shrink:1;}\n",
       ".r-4qtqp9{display:inline-block;}\n",
       ".r-ywje51{margin-bottom:auto;margin-left:auto;margin-right:auto;margin-top:auto;}\n",
       ".r-hvic4v{display:none;}\n",
       ".r-1adg3ll{display:block;}\n",
       "[stylesheet-group=\"2.2\"]{}\n",
       ".r-12vffkv&gt;*{pointer-events:auto;}\n",
       ".r-12vffkv{pointer-events:none!important;}\n",
       ".r-14lw9ot{background-color:rgba(255,255,255,1.00);}\n",
       ".r-1p0dtai{bottom:0px;}\n",
       ".r-1d2f490{left:0px;}\n",
       ".r-1xcajam{position:fixed;}\n",
       ".r-zchlnj{right:0px;}\n",
       ".r-ipm5af{top:0px;}\n",
       ".r-yyyyoo{fill:currentcolor;}\n",
       ".r-1xvli5t{height:1.25em;}\n",
       ".r-dnmrzs{max-width:100%;}\n",
       ".r-bnwqim{position:relative;}\n",
       ".r-1plcrui{vertical-align:text-bottom;}\n",
       ".r-lrvibr{-moz-user-select:none;-ms-user-select:none;-webkit-user-select:none;user-select:none;}\n",
       ".r-13gxpu9{color:rgba(29,161,242,1.00);}\n",
       ".r-wy61xf{height:72px;}\n",
       ".r-u8s1d{position:absolute;}\n",
       ".r-1blnp2b{width:72px;}\n",
       ".r-1ykxob0{top:60%;}\n",
       ".r-1b2b6em{line-height:2em;}\n",
       ".r-q4m81j{text-align:center;}</style>\n",
       "</head><body>\n",
       "<noscript>\n",
       "    &lt;form action=\"https://mobile.twitter.com/i/nojs_router?path=%2Fmarswxreport%3Flang%3Den\" method=\"POST\" style=\"background-color: #fff; position: fixed; top: 0; left: 0; right: 0; bottom: 0; z-index: 9999;\"&gt;\n",
       "      &lt;div style=\"font-size: 18px; font-family: Helvetica,sans-serif; line-height: 24px; margin: 10%; width: 80%;\"&gt;\n",
       "        &lt;p&gt;We've detected that JavaScript is disabled in your browser. Would you like to proceed to legacy Twitter?&lt;/p&gt;\n",
       "        &lt;p style=\"margin: 20px 0;\"&gt;\n",
       "          &lt;button type=\"submit\" style=\"background-color: #1da1f2; border-radius: 100px; border: none; box-shadow: none; color: #fff; cursor: pointer; font-size: 14px; font-weight: bold; line-height: 20px; padding: 6px 16px;\"&gt;Yes&lt;/button&gt;\n",
       "        &lt;/p&gt;\n",
       "      &lt;/div&gt;\n",
       "    &lt;/form&gt;\n",
       "  </noscript>\n",
       "<div id=\"react-root\" style=\"height:100%;display:flex;\"><div class=\"css-1dbjc4n r-13awgt0 r-12vffkv\" data-reactroot=\"\"><div class=\"css-1dbjc4n r-13awgt0 r-12vffkv\"><div aria-label=\"Loading…\" class=\"css-1dbjc4n r-14lw9ot r-1p0dtai r-1d2f490 r-1xcajam r-zchlnj r-ipm5af\"><svg class=\"r-1p0dtai r-13gxpu9 r-4qtqp9 r-yyyyoo r-wy61xf r-1d2f490 r-ywje51 r-dnmrzs r-u8s1d r-zchlnj r-1plcrui r-ipm5af r-lrvibr r-1blnp2b\" viewbox=\"0 0 24 24\" xmlns=\"http://www.w3.org/2000/svg\"><g><path d=\"M23.643 4.937c-.835.37-1.732.62-2.675.733.962-.576 1.7-1.49 2.048-2.578-.9.534-1.897.922-2.958 1.13-.85-.904-2.06-1.47-3.4-1.47-2.572 0-4.658 2.086-4.658 4.66 0 .364.042.718.12 1.06-3.873-.195-7.304-2.05-9.602-4.868-.4.69-.63 1.49-.63 2.342 0 1.616.823 3.043 2.072 3.878-.764-.025-1.482-.234-2.11-.583v.06c0 2.257 1.605 4.14 3.737 4.568-.392.106-.803.162-1.227.162-.3 0-.593-.028-.877-.082.593 1.85 2.313 3.198 4.352 3.234-1.595 1.25-3.604 1.995-5.786 1.995-.376 0-.747-.022-1.112-.065 2.062 1.323 4.51 2.093 7.14 2.093 8.57 0 13.255-7.098 13.255-13.254 0-.2-.005-.402-.014-.602.91-.658 1.7-1.477 2.323-2.41z\"></path></g></svg></div><div class=\"css-1dbjc4n r-hvic4v r-1d2f490 r-1xcajam r-zchlnj r-1ykxob0\" id=\"ScriptLoadFailure\"><form action=\"\" method=\"GET\"><div class=\"css-901oao r-1adg3ll r-1b2b6em r-q4m81j\" dir=\"auto\"><span class=\"css-901oao css-16my406\" dir=\"auto\">Something went wrong, but don’t fret — let’s give it another shot.</span><br/><input type=\"submit\" value=\"Try again\"/></div></form></div></div></div></div>\n",
       "<script nonce=\"\">\n",
       "window.__INITIAL_STATE__ = {\"optimist\":[],\"featureSwitch\":{\"config\":{\"account_country_setting_countries_whitelist\":{\"value\":[\"ad\",\"ae\",\"af\",\"ag\",\"ai\",\"al\",\"am\",\"ao\",\"ar\",\"as\",\"at\",\"au\",\"aw\",\"ax\",\"az\",\"ba\",\"bb\",\"bd\",\"be\",\"bf\",\"bg\",\"bh\",\"bi\",\"bj\",\"bl\",\"bm\",\"bn\",\"bo\",\"bq\",\"br\",\"bs\",\"bt\",\"bv\",\"bw\",\"by\",\"bz\",\"ca\",\"cc\",\"cd\",\"cf\",\"cg\",\"ch\",\"ci\",\"ck\",\"cl\",\"cm\",\"co\",\"cr\",\"cu\",\"cv\",\"cw\",\"cx\",\"cy\",\"cz\",\"de\",\"dj\",\"dk\",\"dm\",\"do\",\"dz\",\"ec\",\"ee\",\"eg\",\"er\",\"es\",\"et\",\"fi\",\"fj\",\"fk\",\"fm\",\"fo\",\"fr\",\"ga\",\"gb\",\"gd\",\"ge\",\"gf\",\"gg\",\"gh\",\"gi\",\"gl\",\"gm\",\"gn\",\"gp\",\"gq\",\"gr\",\"gs\",\"gt\",\"gu\",\"gw\",\"gy\",\"hk\",\"hn\",\"hr\",\"ht\",\"hu\",\"id\",\"ie\",\"il\",\"im\",\"in\",\"io\",\"iq\",\"ir\",\"is\",\"it\",\"je\",\"jm\",\"jo\",\"jp\",\"ke\",\"kg\",\"kh\",\"ki\",\"km\",\"kn\",\"kr\",\"kw\",\"ky\",\"kz\",\"la\",\"lb\",\"lc\",\"li\",\"lk\",\"lr\",\"ls\",\"lt\",\"lu\",\"lv\",\"ly\",\"ma\",\"mc\",\"md\",\"me\",\"mf\",\"mg\",\"mh\",\"mk\",\"ml\",\"mn\",\"mo\",\"mp\",\"mq\",\"mr\",\"ms\",\"mt\",\"mu\",\"mv\",\"mw\",\"mx\",\"my\",\"mz\",\"na\",\"nc\",\"ne\",\"nf\",\"ng\",\"ni\",\"nl\",\"no\",\"np\",\"nr\",\"nu\",\"nz\",\"om\",\"pa\",\"pe\",\"pf\",\"pg\",\"ph\",\"pk\",\"pl\",\"pm\",\"pn\",\"pr\",\"ps\",\"pt\",\"pw\",\"py\",\"qa\",\"re\",\"ro\",\"rs\",\"ru\",\"rw\",\"sa\",\"sb\",\"sc\",\"se\",\"sg\",\"sh\",\"si\",\"sk\",\"sl\",\"sm\",\"sn\",\"so\",\"sr\",\"st\",\"sv\",\"sx\",\"sz\",\"tc\",\"td\",\"tf\",\"tg\",\"th\",\"tj\",\"tk\",\"tl\",\"tm\",\"tn\",\"to\",\"tr\",\"tt\",\"tv\",\"tw\",\"tz\",\"ua\",\"ug\",\"us\",\"uy\",\"uz\",\"va\",\"vc\",\"ve\",\"vi\",\"vn\",\"vu\",\"wf\",\"ws\",\"xk\",\"ye\",\"yt\",\"za\",\"zm\",\"zw\"]},\"author_moderated_replies_urt_container_enabled\":{\"value\":false},\"content_language_setting_enabled\":{\"value\":true},\"conversation_controls_limited_replies_creation_enabled\":{\"value\":false},\"dm_reactions_config_active_reactions\":{\"value\":[\"😂:funny\",\"😲:surprised\",\"😢:sad\",\"❤:like\",\"🔥:excited\",\"👍:agree\",\"👎:disagree\"]},\"dm_reactions_config_inactive_reactions\":{\"value\":[\"😠:angry\"]},\"guest_broadcasting_timeline_decorations_enabled\":{\"value\":true},\"home_timeline_latest_timeline_autoswitch_half_life_minutes\":{\"value\":43200},\"home_timeline_latest_timeline_autoswitch_threshold_multiplier\":{\"value\":2},\"home_timeline_latest_timeline_max_time_to_autoswitch_minutes\":{\"value\":5256000},\"home_timeline_latest_timeline_min_time_to_autoswitch_minutes\":{\"value\":5256000},\"home_timeline_latest_timeline_switch_enabled\":{\"value\":true},\"home_timeline_latest_timeline_threshold_to_increase_autoswitch_seconds\":{\"value\":60},\"home_timeline_spheres_channel_copy_enabled\":{\"value\":false},\"home_timeline_spheres_detail_page_muting_enabled\":{\"value\":false},\"home_timeline_spheres_creation_and_edit_flows_enabled\":{\"value\":false},\"home_timeline_spheres_discovery_page_enabled\":{\"value\":false},\"home_timeline_spheres_max_user_owned_or_subscribed_lists_count\":{\"value\":0},\"home_timeline_spheres_management_page_enabled\":{\"value\":false},\"home_timeline_spheres_ranking_mode_control_enabled\":{\"value\":true},\"live_event_multi_video_auto_advance_dock_enabled\":{\"value\":true},\"live_event_multi_video_auto_advance_enabled\":{\"value\":true},\"live_event_multi_video_auto_advance_fullscreen_enabled\":{\"value\":false},\"live_event_multi_video_auto_advance_transition_duration_seconds\":{\"value\":5},\"live_event_multi_video_enabled\":{\"value\":true},\"live_event_timeline_default_refresh_rate_interval_seconds\":{\"value\":30},\"live_event_timeline_minimum_refresh_rate_interval_seconds\":{\"value\":10},\"live_event_timeline_server_controlled_refresh_rate_enabled\":{\"value\":true},\"live_event_vod_promoted_content_enabled\":{\"value\":false},\"live_event_docking_enabled\":{\"value\":true},\"livepipeline_client_enabled\":{\"value\":true},\"livepipeline_dm_features_enabled\":{\"value\":true},\"livepipeline_tweetengagement_enabled\":{\"value\":true},\"moment_annotations_enabled\":{\"value\":true},\"navigation_stack_referrer_param_enabled\":{\"value\":false},\"network_layer_503_backoff_mode\":{\"value\":\"disable\"},\"responsive_web_2fa_settings_change_copy_enabled\":{\"value\":true},\"responsive_web_alt_svc\":{\"value\":false},\"responsive_web_alt_text_badge_enabled\":{\"value\":false},\"responsive_web_alt_text_by_default_enabled\":{\"value\":false},\"responsive_web_alt_text_gif_default_text_enabled\":{\"value\":false},\"responsive_web_alt_text_gifs_enabled\":{\"value\":true},\"responsive_web_alt_text_max_length\":{\"value\":420},\"responsive_web_api_transition_enabled\":{\"value\":false},\"responsive_web_auto_logout_multiaccount_enabled\":{\"value\":true},\"responsive_web_auto_logout_restrictedauthtoken_enabled\":{\"value\":true},\"responsive_web_auto_logout_twid_enabled\":{\"value\":true},\"responsive_web_branch_download_links_enabled\":{\"value\":true},\"responsive_web_branch_sdk_enabled\":{\"value\":true},\"responsive_web_broadcast_page_card_enabled\":{\"value\":true},\"responsive_web_cleanup_macaw_swift_indexed_db\":{\"value\":true},\"responsive_web_continue_as_param_enabled\":{\"value\":true},\"responsive_web_continue_as_always_enabled\":{\"value\":false},\"responsive_web_conversation_tree_enabled\":{\"value\":false},\"responsive_web_conversation_tree_toggle\":{\"value\":false},\"responsive_web_conversation_tree_hide_tweet_actions\":{\"value\":false},\"responsive_web_conversation_tree_hide_tweet_action_counts\":{\"value\":false},\"responsive_web_conversation_tree_hide_caret\":{\"value\":false},\"responsive_web_csrf_clientside_enabled\":{\"value\":true},\"responsive_web_dark_mode_scrollbars_enabled\":{\"value\":false},\"responsive_web_desktop_app_reload_hard_ttl\":{\"value\":86400000},\"responsive_web_desktop_app_reload_nightly_reset_enabled\":{\"value\":false},\"responsive_web_desktop_app_reload_soft_ttl\":{\"value\":86400000},\"responsive_web_disable_access\":{\"value\":true},\"responsive_web_dm_typeahead_enabled\":{\"value\":false},\"responsive_web_dm_quick_access_enabled\":{\"value\":false},\"responsive_web_dm_quick_access_multi_draft_enabled\":{\"value\":true},\"responsive_web_dm_quick_access_multi_draft_with_text_enabled\":{\"value\":false},\"responsive_web_elevated_qt_api_enabled\":{\"value\":false},\"responsive_web_elevated_qt_ui_configuration\":{\"value\":\"\"},\"responsive_web_eu_countries\":{\"value\":[\"at\",\"be\",\"bg\",\"ch\",\"cy\",\"cz\",\"de\",\"dk\",\"ee\",\"es\",\"fi\",\"fr\",\"gb\",\"gr\",\"hr\",\"hu\",\"ie\",\"is\",\"it\",\"li\",\"lt\",\"lu\",\"lv\",\"mt\",\"nl\",\"no\",\"pl\",\"pt\",\"ro\",\"se\",\"si\",\"sk\"]},\"responsive_web_explore_as_lohp_enabled\":{\"value\":true},\"responsive_web_explore_tab_followup_enabled\":{\"value\":false},\"responsive_web_extension_compatibility_hide\":{\"value\":false},\"responsive_web_extension_compatibility_impression_guard\":{\"value\":true},\"responsive_web_extension_compatibility_override_param\":{\"value\":false},\"responsive_web_extension_compatibility_scribe\":{\"value\":true},\"responsive_web_extension_compatibility_size_threshold\":{\"value\":50},\"responsive_web_fake_root_twitter_domain_for_testing\":{\"value\":false},\"responsive_web_feature_switch_dash_enabled\":{\"value\":false},\"responsive_web_fetch_hashflags_on_boot\":{\"value\":true},\"responsive_web_framerate_tracking_home_enabled\":{\"value\":false},\"responsive_web_graphql_amr_timeline\":{\"value\":false},\"responsive_web_graphql_dark_reads_probability\":{\"value\":0},\"responsive_web_graphql_following\":{\"value\":true},\"responsive_web_graphql_list_crud\":{\"value\":true},\"responsive_web_graphql_list_management_timelines_enabled\":{\"value\":false},\"responsive_web_graphql_list_members_subscribers_enabled\":{\"value\":false},\"responsive_web_graphql_list_operations\":{\"value\":false},\"responsive_web_graphql_user_lists_blocked\":{\"value\":true},\"responsive_web_graphql_user_lists_followers_you_follow\":{\"value\":true},\"responsive_web_graphql_user_lists_muted\":{\"value\":true},\"responsive_web_graphql_verify_credentials_enabled\":{\"value\":true},\"responsive_web_guest_token_reporting\":{\"value\":true},\"responsive_web_hide_media_previews_enabled\":{\"value\":false},\"responsive_web_home_wait_for_seenIds_enabled\":{\"value\":false},\"responsive_web_horizon_video_player_enabled\":{\"value\":true},\"responsive_web_html_archive_renderer_enabled\":{\"value\":true},\"responsive_web_hw_cards_in_dms_enabled\":{\"value\":false},\"responsive_web_inline_login_field_prompts_enabled\":{\"value\":false},\"responsive_web_composer_multi_draft_enabled\":{\"value\":false},\"responsive_web_inline_reply_enabled\":{\"value\":false},\"responsive_web_inline_reply_with_fab_enabled\":{\"value\":false},\"responsive_web_instream_video_enabled\":{\"value\":false},\"responsive_web_live_video_parity_periscope_auth_enabled\":{\"value\":false},\"responsive_web_login_input_type_email_enabled\":{\"value\":false},\"responsive_web_login_signup_sheet_app_install_cta_enabled\":{\"value\":true},\"responsive_web_media_upload_eager_enabled\":{\"value\":true},\"responsive_web_media_upload_limit_2g\":{\"value\":250},\"responsive_web_media_upload_limit_3g\":{\"value\":1500},\"responsive_web_media_upload_limit_slow_2g\":{\"value\":150},\"responsive_web_media_upload_md5_hashing_enabled\":{\"value\":false},\"responsive_web_media_upload_target_jpg_pixels_per_byte\":{\"value\":1},\"responsive_web_media_viewer_m2_focal_tweet_media_enabled\":{\"value\":false},\"responsive_web_media_viewer_m2_sidebar_enabled\":{\"value\":true},\"responsive_web_media_viewer_m2_tweet_actions_bar_enabled\":{\"value\":true},\"responsive_web_moment_maker_enabled\":{\"value\":false},\"responsive_web_multiple_account_limit\":{\"value\":5},\"responsive_web_new_multi_account_ux_enabled\":{\"value\":true},\"responsive_web_news_camera_consume_enabled\":{\"value\":true},\"responsive_web_ntab_verified_mentions_vit_internal_dogfood\":{\"value\":false},\"responsive_web_ocf_sms_autoverify_enabled\":{\"value\":false},\"responsive_web_report_page_not_found\":{\"value\":false},\"responsive_web_rich_tweet_landing_enabled\":{\"value\":true},\"responsive_web_scheduling_edit_enabled\":{\"value\":false},\"responsive_web_scheduling_enabled\":{\"value\":false},\"responsive_web_scheduling_entry_point\":{\"value\":\"overflow\"},\"responsive_web_scroller_autopoll_enabled\":{\"value\":false},\"responsive_web_scroller_v3_enabled\":{\"value\":true},\"responsive_web_search_dms_enabled\":{\"value\":true},\"responsive_web_side_nav_enabled\":{\"value\":false},\"responsive_web_sports_carousel\":{\"value\":false},\"responsive_web_trends_setting_new_endpoints\":{\"value\":true},\"responsive_web_tweet_detail_to_tweet_enabled\":{\"value\":false},\"responsive_web_tweet_drafts_enabled\":{\"value\":false},\"responsive_web_tweets_pill_local_enabled\":{\"value\":false},\"responsive_web_unified_cards_live_event_enabled\":{\"value\":true},\"responsive_web_unified_cards_poll2choice_image_enabled\":{\"value\":false},\"responsive_web_unified_cards_poll2choice_video_enabled\":{\"value\":false},\"responsive_web_unified_cards_poll3choice_image_enabled\":{\"value\":false},\"responsive_web_unified_cards_poll3choice_video_enabled\":{\"value\":false},\"responsive_web_unified_cards_poll4choice_image_enabled\":{\"value\":false},\"responsive_web_unified_cards_poll4choice_video_enabled\":{\"value\":false},\"responsive_web_verification_v2_enabled\":{\"value\":true},\"responsive_web_video_native_fullscreen_enabled\":{\"value\":true},\"responsive_web_video_promoted_logging_enabled\":{\"value\":true},\"responsive_web_vod_muted_captions_enabled\":{\"value\":true},\"responsive_web_vs_config_desktop_assumed_item_height\":{\"value\":100},\"responsive_web_vs_config_resize_observer_enabled\":{\"value\":true},\"responsive_web_zipkin_api_requests_enabled\":{\"value\":false},\"scribe_api_error_sample_size\":{\"value\":0},\"scribe_api_sample_size\":{\"value\":100},\"scribe_cdn_host_list\":{\"value\":[\"si0.twimg.com\",\"si1.twimg.com\",\"si2.twimg.com\",\"si3.twimg.com\",\"a0.twimg.com\",\"a1.twimg.com\",\"a2.twimg.com\",\"a3.twimg.com\",\"abs.twimg.com\",\"amp.twimg.com\",\"o.twimg.com\",\"pbs.twimg.com\",\"pbs-eb.twimg.com\",\"pbs-ec.twimg.com\",\"pbs-v6.twimg.com\",\"pbs-h1.twimg.com\",\"pbs-h2.twimg.com\",\"video.twimg.com\",\"platform.twitter.com\",\"cdn.api.twitter.com\",\"ton.twimg.com\",\"v.cdn.vine.co\",\"mtc.cdn.vine.co\",\"edge.vncdn.co\",\"mid.vncdn.co\"]},\"scribe_cdn_sample_size\":{\"value\":50},\"scribe_enabled\":{\"value\":true},\"soft_interventions_forward_pivot_enabled\":{\"value\":true},\"topic_landing_page_enabled\":{\"value\":false},\"topics_descriptions_enabled\":{\"value\":false},\"topics_dismiss_control_enabled\":{\"value\":false},\"topics_new_mgmt_enabled\":{\"value\":false},\"tweet_limited_actions_config_enabled\":{\"value\":true},\"tweet_limited_actions_config_non_compliant\":{\"value\":[\"reply\",\"retweet\",\"like\",\"send_via_dm\",\"add_to_bookmarks\",\"add_to_moment\",\"pin_to_profile\",\"view_tweet_activity\",\"share_tweet_via\"]},\"user_display_name_max_limit\":{\"value\":50},\"web_video_hls_mp4_threshold_sec\":{\"value\":0},\"web_video_hlsjs_max_buffer_length_pause\":{\"value\":0},\"web_video_hlsjs_max_buffer_length_play\":{\"value\":0},\"web_video_hlsjs_version\":{\"value\":\"\"},\"responsive_web_graphql_followers_9209\":{\"value\":\"treatment\"}},\"debug\":{},\"impression_pointers\":{},\"impressions\":{},\"featureSetToken\":\"93484c50caba5fb6afb8859b47af60da49f4e5c3\",\"isLoaded\":true,\"isLoading\":false,\"keysRead\":{},\"settingsVersion\":\"b2c1b82657d5770613b95745c9208686\"},\"urt\":{},\"entities\":{\"users\":{\"entities\":{},\"errors\":{},\"fetchStatus\":{}},\"tweets\":{\"entities\":{},\"errors\":{},\"fetchStatus\":{}},\"cards\":{\"entities\":{},\"errors\":{},\"fetchStatus\":{}}},\"toasts\":[],\"devices\":{\"browserPush\":{\"fetchStatus\":\"none\",\"pushNotificationsPrompt\":{\"dismissed\":false,\"fetchStatus\":\"none\"},\"subscribed\":false,\"supported\":null},\"devices\":{\"data\":{\"emails\":[],\"phone_numbers\":[]},\"fetchStatus\":\"none\"},\"notificationSettings\":{\"push_settings\":{\"error\":null,\"fetchStatus\":\"none\"},\"push_settings_template\":{\"template\":{\"settings\":[]}},\"sms_settings\":{\"error\":null,\"fetchStatus\":\"none\"},\"sms_settings_template\":{\"template\":{\"settings\":[]}},\"checkin_time\":null}},\"typeaheadUsers\":{\"fetchStatus\":\"none\",\"users\":{},\"denylist\":{},\"lastUpdated\":0,\"index\":{}},\"session\":{\"country\":\"US\",\"emailLiteLoginEligibility\":{\"fetchStatus\":\"none\"},\"guestId\":\"158823434221365348\",\"language\":\"en\",\"oneFactorLoginEligibility\":{\"fetchStatus\":\"none\"}},\"settings\":{\"local\":{\"nextPushCheckin\":0,\"shouldAutoPlayGif\":false,\"scale\":\"normal\",\"themeColor\":\"blue\",\"highContrastEnabled\":false,\"themeBackground\":\"light\",\"loginPromptLastShown\":0,\"mediaPreviewsEnabled\":true,\"reducedMotionEnabled\":false,\"conversationTreeEnabled\":false,\"showTweetMediaDetailDrawer\":true},\"remote\":{\"settings\":{\"display_sensitive_media\":false},\"fetchStatus\":\"none\"},\"dataSaver\":{\"dataSaverMode\":false},\"transient\":{\"dtabBarInfo\":{\"dtabAll\":null,\"dtabRweb\":null,\"hide\":false},\"loginPromptShown\":false,\"lastViewedDmInboxPath\":\"/messages\",\"themeFocus\":\"\"}},\"hashflags\":{\"fetchStatus\":\"none\",\"hashflags\":{}}};\n",
       "window.__META_DATA__ = {\"env\":\"prod\",\"isFromDynamicRenderer\":false,\"isLoggedIn\":false,\"isRTL\":false,\"hasMultiAccountCookie\":false,\"userAgentRequestHeader\":\"Mozilla/5.0 (Windows NT 10.0; Win64; x64) AppleWebKit/537.36 (KHTML, like Gecko) Chrome/81.0.4044.129 Safari/537.36\",\"serverDate\":1588234342252,\"sha\":\"e27c8cc78e663e4f41ea2fd025a87c447471bd26\"};\n",
       "</script>\n",
       "<script nonce=\"\">\n",
       "  document.cookie = decodeURIComponent(\"gt=1255771964989419520; Max-Age=10800; Domain=.twitter.com; Path=/; Secure\");\n",
       "</script>\n",
       "<script charset=\"utf-8\" nonce=\"\" type=\"text/javascript\">\n",
       "  window.__SCRIPTS_LOADED__ = {};\n",
       "  !function(e){function n(n){for(var o,i,t=n[0],c=n[1],l=n[2],u=0,b=[];u&lt;t.length;u++)i=t[u],Object.prototype.hasOwnProperty.call(a,i)&amp;&amp;a[i]&amp;&amp;b.push(a[i][0]),a[i]=0;for(o in c)Object.prototype.hasOwnProperty.call(c,o)&amp;&amp;(e[o]=c[o]);for(m&amp;&amp;m(n);b.length;)b.shift()();return r.push.apply(r,l||[]),d()}function d(){for(var e,n=0;n&lt;r.length;n++){for(var d=r[n],o=!0,t=1;t&lt;d.length;t++){var c=d[t];0!==a[c]&amp;&amp;(o=!1)}o&amp;&amp;(r.splice(n--,1),e=i(i.s=d[0]))}return e}var o={},a={0:0},r=[];function i(n){if(o[n])return o[n].exports;var d=o[n]={i:n,l:!1,exports:{}};return e[n].call(d.exports,d,d.exports,i),d.l=!0,d.exports}i.e=function(e){var n=[],d=a[e];if(0!==d)if(d)n.push(d[2]);else{var o=new Promise((function(n,o){d=a[e]=[n,o]}));n.push(d[2]=o);var r,t=document.createElement(\"script\");t.charset=\"utf-8\",t.timeout=120,i.nc&amp;&amp;t.setAttribute(\"nonce\",i.nc),t.src=function(e){return i.p+\"\"+({2:\"shared~bundle.HomeTimeline\",3:\"shared~bundle.DirectMessages\",4:\"shared~bundle.UserProfile\",5:\"shared~bundle.Settings\",6:\"bundle.DMRichTextCompose~bundle.DirectMessages~loader.DMDrawer\",7:\"bundle.NewsCameraCapsule~loader.NewsCamera~loaders.video.VideoPlayerDefaultUI\",8:\"bundle.Display~bundle.Settings\",9:\"bundle.Explore~loader.ExploreSidebar\",10:\"bundle.LiveEvent~bundle.MomentMaker\",11:\"bundle.NewsCameraCapsule~loader.NewsCamera\",12:\"loaders.video.PlayerBase~ondemand.lex\",13:\"vendors~bundle.MomentMaker~ondemand.EditPinned\",14:\"bundle.AboutThisAd\",15:\"bundle.Account\",16:\"bundle.AdvancedSearch\",17:\"bundle.Bookmarks\",18:\"bundle.Broadcast\",19:\"bundle.Collection\",20:\"bundle.Compose\",21:\"bundle.ComposeMedia\",22:\"bundle.ConnectTab\",23:\"bundle.Conversation\",24:\"bundle.ConversationParticipants\",25:\"bundle.DMRichTextCompose\",26:\"bundle.DirectMessages\",27:\"bundle.Display\",28:\"bundle.Download\",29:\"bundle.Explore\",30:\"bundle.ExploreTopics\",31:\"bundle.FollowerRequests\",32:\"bundle.GenericTimeline\",33:\"bundle.GifSearch\",34:\"bundle.HomeTimeline\",35:\"bundle.KeyboardShortcuts\",36:\"bundle.LiveEvent\",37:\"bundle.LoggedOutHome\",38:\"bundle.Login\",39:\"bundle.Logout\",40:\"bundle.Moment\",41:\"bundle.MomentMaker\",42:\"bundle.MultiAccount\",43:\"bundle.NetworkInstrument\",44:\"bundle.NewsCameraCapsule\",45:\"bundle.NotificationDetail\",46:\"bundle.Notifications\",47:\"bundle.Ocf\",48:\"bundle.Place\",49:\"bundle.PlainTextCompose\",50:\"bundle.ProfileRedirect\",51:\"bundle.Report\",52:\"bundle.RichTextCompose\",53:\"bundle.Search\",54:\"bundle.Settings\",55:\"bundle.SettingsInternals\",56:\"bundle.SettingsProfile\",57:\"bundle.SettingsTransparency\",58:\"bundle.SmsLogin\",59:\"bundle.Topics\",60:\"bundle.Trends\",61:\"bundle.TweetActivity\",62:\"bundle.TweetMediaDetail\",63:\"bundle.TweetMediaTags\",64:\"bundle.Twitterversary\",65:\"bundle.UserAvatar\",66:\"bundle.UserFollowLists\",67:\"bundle.UserHeader\",68:\"bundle.UserLists\",69:\"bundle.UserMoments\",70:\"bundle.UserProfile\",71:\"bundle.UserProfileTimelines\",72:\"bundle.UserRedirect\",171:\"loader.AbsolutePower\",172:\"loader.AppModules\",173:\"loader.DMDrawer\",174:\"loader.DashMenu\",175:\"loader.ExploreSidebar\",176:\"loader.FeedbackSheet\",177:\"loader.FeedbackTombstone\",178:\"loader.HWCard\",179:\"loader.NewTweetsPill\",180:\"loader.NewsCamera\",181:\"loader.PeriscopeOverlay\",182:\"loader.ProfileClusterFollow\",183:\"loader.PushNotificationsPrompt\",184:\"loader.SideNav\",185:\"loader.SignupModule\",186:\"loader.TimelineGap\",187:\"loader.TimelineRenderer\",188:\"loader.TweetCurationActionMenu\",189:\"loader.TweetPhotos\",190:\"loader.Typeahead\",191:\"loader.WideLayout\",192:\"loader.graphQLDarkReads\",193:\"loaders.video.PlayerBase\",194:\"loaders.video.PlayerHls12\",195:\"loaders.video.PlayerHls13\",196:\"loaders.video.PlayerUi\",197:\"loaders.video.VideoPlayerDefaultUI\",199:\"ondemand.Balloons\",200:\"ondemand.CarouselScroller\",201:\"ondemand.ComposeScheduling\",202:\"ondemand.EditBirthdate\",203:\"ondemand.EditPinned\",204:\"ondemand.EmojiPicker\",205:\"ondemand.HoverCard\",206:\"ondemand.InlinePlayer\",207:\"ondemand.IntentPrompt\",208:\"ondemand.MicrosoftInterface\",209:\"ondemand.ProfileSidebar\",210:\"ondemand.SettingsInternals\",211:\"ondemand.countries-ar\",212:\"ondemand.countries-bg\",213:\"ondemand.countries-bn\",214:\"ondemand.countries-ca\",215:\"ondemand.countries-cs\",216:\"ondemand.countries-da\",217:\"ondemand.countries-de\",218:\"ondemand.countries-el\",219:\"ondemand.countries-en\",220:\"ondemand.countries-en-GB\",221:\"ondemand.countries-es\",222:\"ondemand.countries-eu\",223:\"ondemand.countries-fa\",224:\"ondemand.countries-fi\",225:\"ondemand.countries-fil\",226:\"ondemand.countries-fr\",227:\"ondemand.countries-ga\",228:\"ondemand.countries-gl\",229:\"ondemand.countries-gu\",230:\"ondemand.countries-he\",231:\"ondemand.countries-hi\",232:\"ondemand.countries-hr\",233:\"ondemand.countries-hu\",234:\"ondemand.countries-id\",235:\"ondemand.countries-it\",236:\"ondemand.countries-ja\",237:\"ondemand.countries-kn\",238:\"ondemand.countries-ko\",239:\"ondemand.countries-mr\",240:\"ondemand.countries-ms\",241:\"ondemand.countries-nb\",242:\"ondemand.countries-nl\",243:\"ondemand.countries-pl\",244:\"ondemand.countries-pt\",245:\"ondemand.countries-ro\",246:\"ondemand.countries-ru\",247:\"ondemand.countries-sk\",248:\"ondemand.countries-sr\",249:\"ondemand.countries-sv\",250:\"ondemand.countries-ta\",251:\"ondemand.countries-th\",252:\"ondemand.countries-tr\",253:\"ondemand.countries-uk\",254:\"ondemand.countries-ur\",255:\"ondemand.countries-zh\",256:\"ondemand.countries-zh-Hant\",257:\"ondemand.emoji.ar\",258:\"ondemand.emoji.bg\",259:\"ondemand.emoji.bn\",260:\"ondemand.emoji.ca\",261:\"ondemand.emoji.cs\",262:\"ondemand.emoji.da\",263:\"ondemand.emoji.de\",264:\"ondemand.emoji.el\",265:\"ondemand.emoji.en\",266:\"ondemand.emoji.en-GB\",267:\"ondemand.emoji.en-ss\",268:\"ondemand.emoji.en-xx\",269:\"ondemand.emoji.es\",270:\"ondemand.emoji.eu\",271:\"ondemand.emoji.fa\",272:\"ondemand.emoji.fi\",273:\"ondemand.emoji.fil\",274:\"ondemand.emoji.fr\",275:\"ondemand.emoji.ga\",276:\"ondemand.emoji.gl\",277:\"ondemand.emoji.gu\",278:\"ondemand.emoji.he\",279:\"ondemand.emoji.hi\",280:\"ondemand.emoji.hr\",281:\"ondemand.emoji.hu\",282:\"ondemand.emoji.id\",283:\"ondemand.emoji.it\",284:\"ondemand.emoji.ja\",285:\"ondemand.emoji.kn\",286:\"ondemand.emoji.ko\",287:\"ondemand.emoji.mr\",288:\"ondemand.emoji.ms\",289:\"ondemand.emoji.nb\",290:\"ondemand.emoji.nl\",291:\"ondemand.emoji.pl\",292:\"ondemand.emoji.pt\",293:\"ondemand.emoji.ro\",294:\"ondemand.emoji.ru\",295:\"ondemand.emoji.sk\",296:\"ondemand.emoji.sr\",297:\"ondemand.emoji.sv\",298:\"ondemand.emoji.ta\",299:\"ondemand.emoji.th\",300:\"ondemand.emoji.tr\",301:\"ondemand.emoji.uk\",302:\"ondemand.emoji.ur\",303:\"ondemand.emoji.vi\",304:\"ondemand.emoji.zh\",305:\"ondemand.emoji.zh-Hant\",306:\"ondemand.framerateTracking\",307:\"ondemand.lex\",309:\"vendors~bundle.DMRichTextCompose\",310:\"vendors~bundle.MomentMaker\",311:\"vendors~loaders.video.PlayerBase\",312:\"vendors~loaders.video.PlayerUi\",313:\"vendors~ondemand.EmojiPicker\"}[e]||e)+\".\"+{2:\"389a8bb\",3:\"cc5ccd3\",4:\"61e25c6\",5:\"f01c306\",6:\"519b5f2\",7:\"a9a5b28\",8:\"39f0932\",9:\"db7412d\",10:\"06e17eb\",11:\"ffef261\",12:\"41688ff\",13:\"98e37cd\",14:\"432f4cb\",15:\"ddf0c4b\",16:\"e111ed5\",17:\"10a4aa0\",18:\"9ab6b21\",19:\"a9081ec\",20:\"a6a0571\",21:\"b9808ce\",22:\"cf14ca4\",23:\"2a9da8d\",24:\"1df7f40\",25:\"ec102b4\",26:\"b2a025c\",27:\"20b69bb\",28:\"a06c681\",29:\"f825935\",30:\"7b739f1\",31:\"2d70078\",32:\"8ddae9f\",33:\"ab89cb0\",34:\"7bbcf31\",35:\"9001b84\",36:\"a1cc4db\",37:\"49ed4da\",38:\"11cad14\",39:\"919c969\",40:\"4167c00\",41:\"8e3c264\",42:\"af96929\",43:\"1b22505\",44:\"3c76969\",45:\"24bb4ac\",46:\"8c63d29\",47:\"c53e55f\",48:\"3e95573\",49:\"2073e68\",50:\"2e81ccc\",51:\"e77cf00\",52:\"f5205f0\",53:\"8cfee30\",54:\"44815e0\",55:\"f539113\",56:\"8f0baec\",57:\"5865a99\",58:\"5785292\",59:\"a02829f\",60:\"b2fa188\",61:\"3dac8e1\",62:\"d5321a8\",63:\"33f2dd4\",64:\"a90cfe7\",65:\"7e72cd6\",66:\"74aeba4\",67:\"a9b6fce\",68:\"e8ced53\",69:\"a97cb5e\",70:\"b4c40e4\",71:\"ad8f38a\",72:\"7ce04d3\",171:\"1a92163\",172:\"6dfb2a4\",173:\"840933f\",174:\"0b3d369\",175:\"0799ab6\",176:\"9d92d65\",177:\"c524cf4\",178:\"8dae40f\",179:\"ff96401\",180:\"49dbc76\",181:\"b0e6aae\",182:\"d37b20d\",183:\"91b6aab\",184:\"c15b8a7\",185:\"e6846b4\",186:\"f861369\",187:\"4a93fbd\",188:\"db60f58\",189:\"d7d7e65\",190:\"6e2393f\",191:\"aedde0f\",192:\"e8830bb\",193:\"6b6c1a5\",194:\"0ee25a6\",195:\"4ee8b5a\",196:\"0abd540\",197:\"5a431bb\",199:\"09931c9\",200:\"b5c2e2d\",201:\"ebfbf45\",202:\"7adb1c7\",203:\"a2d8c76\",204:\"c0ad3f6\",205:\"1c511f1\",206:\"6f75f26\",207:\"2b42f8a\",208:\"bf23028\",209:\"49fec07\",210:\"a20bcc7\",211:\"00ea181\",212:\"f346c53\",213:\"cb06b71\",214:\"82a9a89\",215:\"96db93c\",216:\"b4fb9d2\",217:\"a7bcaa8\",218:\"a18d72e\",219:\"6ce221d\",220:\"44bcafe\",221:\"1c6e19e\",222:\"c1a3227\",223:\"51f756a\",224:\"dd25f25\",225:\"f22bb31\",226:\"8854aa7\",227:\"913f8f8\",228:\"fa3c8d6\",229:\"2b09d5f\",230:\"7b601ac\",231:\"071131e\",232:\"0185d8d\",233:\"14c84aa\",234:\"44ae616\",235:\"a61c227\",236:\"adb5b36\",237:\"c6aa2a3\",238:\"c26126d\",239:\"44e305b\",240:\"21c37b1\",241:\"9223622\",242:\"de2c21a\",243:\"e49fa83\",244:\"92af350\",245:\"f44ae91\",246:\"bc9cdaa\",247:\"789baea\",248:\"933dbc4\",249:\"280192e\",250:\"12f5b0f\",251:\"f1ac300\",252:\"5bb60cd\",253:\"d78ddab\",254:\"22243e2\",255:\"68d889f\",256:\"ed00825\",257:\"0aa0b8a\",258:\"4d483cd\",259:\"2fbb0e9\",260:\"5b7ba46\",261:\"d353c54\",262:\"bb836b5\",263:\"068c6eb\",264:\"8f2c504\",265:\"907a976\",266:\"2bf9fb2\",267:\"7b3f5c3\",268:\"22f40d2\",269:\"f134395\",270:\"87c80ae\",271:\"7784bc4\",272:\"ba3dbdb\",273:\"31b6ae5\",274:\"06ce131\",275:\"c671011\",276:\"810884b\",277:\"94313fd\",278:\"ab0c332\",279:\"02a0d04\",280:\"6909e6a\",281:\"f39c15c\",282:\"175f256\",283:\"a8d01ce\",284:\"4de6581\",285:\"3726202\",286:\"6fc1b03\",287:\"059ef3c\",288:\"822b4c0\",289:\"5588182\",290:\"cf2aa64\",291:\"a6ae8c7\",292:\"1de4527\",293:\"ba0f1da\",294:\"bd1bb7b\",295:\"04836a5\",296:\"48e009a\",297:\"2d2f670\",298:\"da86d0c\",299:\"c38cf96\",300:\"7472c77\",301:\"21a05ba\",302:\"3534e0c\",303:\"232027e\",304:\"3ca5c01\",305:\"f9ea730\",306:\"c76d26b\",307:\"2dc2680\",309:\"e3ff29e\",310:\"3d0b19a\",311:\"c58c801\",312:\"2cf6da1\",313:\"53aa131\"}[e]+\"4.js\"}(e);var c=new Error;r=function(n){t.onerror=t.onload=null,clearTimeout(l);var d=a[e];if(0!==d){if(d){var o=n&amp;&amp;(\"load\"===n.type?\"missing\":n.type),r=n&amp;&amp;n.target&amp;&amp;n.target.src;c.message=\"Loading chunk \"+e+\" failed.\\n(\"+o+\": \"+r+\")\",c.name=\"ChunkLoadError\",c.type=o,c.request=r,d[1](c)}a[e]=void 0}};var l=setTimeout((function(){r({type:\"timeout\",target:t})}),12e4);t.onerror=t.onload=r,document.head.appendChild(t)}return Promise.all(n)},i.m=e,i.c=o,i.d=function(e,n,d){i.o(e,n)||Object.defineProperty(e,n,{enumerable:!0,get:d})},i.r=function(e){\"undefined\"!=typeof Symbol&amp;&amp;Symbol.toStringTag&amp;&amp;Object.defineProperty(e,Symbol.toStringTag,{value:\"Module\"}),Object.defineProperty(e,\"__esModule\",{value:!0})},i.t=function(e,n){if(1&amp;n&amp;&amp;(e=i(e)),8&amp;n)return e;if(4&amp;n&amp;&amp;\"object\"==typeof e&amp;&amp;e&amp;&amp;e.__esModule)return e;var d=Object.create(null);if(i.r(d),Object.defineProperty(d,\"default\",{enumerable:!0,value:e}),2&amp;n&amp;&amp;\"string\"!=typeof e)for(var o in e)i.d(d,o,function(n){return e[n]}.bind(null,o));return d},i.n=function(e){var n=e&amp;&amp;e.__esModule?function(){return e.default}:function(){return e};return i.d(n,\"a\",n),n},i.o=function(e,n){return Object.prototype.hasOwnProperty.call(e,n)},i.p=\"https://abs.twimg.com/responsive-web/web/\",i.oe=function(e){throw e};var t=window.webpackJsonp=window.webpackJsonp||[],c=t.push.bind(t);t.push=n,t=t.slice();for(var l=0;l&lt;t.length;l++)n(t[l]);var m=c;d()}([]),window.__SCRIPTS_LOADED__.runtime=!0;\n",
       "//# sourceMappingURL=runtime.91cb0214.js.map\n",
       "</script>\n",
       "<script charset=\"utf-8\" crossorigin=\"anonymous\" nonce=\"\" src=\"https://abs.twimg.com/responsive-web/web/polyfills.bab5fe74.js\" type=\"text/javascript\"></script>\n",
       "<script charset=\"utf-8\" crossorigin=\"anonymous\" nonce=\"\" src=\"https://abs.twimg.com/responsive-web/web/vendors~main.e0482f54.js\" type=\"text/javascript\"></script>\n",
       "<script charset=\"utf-8\" crossorigin=\"anonymous\" nonce=\"\" src=\"https://abs.twimg.com/responsive-web/web/i18n-rweb/en.5ba57774.js\" type=\"text/javascript\"></script>\n",
       "<script charset=\"utf-8\" crossorigin=\"anonymous\" nonce=\"\" src=\"https://abs.twimg.com/responsive-web/web/i18n-horizon/en.9dc24af4.js\" type=\"text/javascript\"></script>\n",
       "<script charset=\"utf-8\" crossorigin=\"anonymous\" nonce=\"\" src=\"https://abs.twimg.com/responsive-web/web/main.9aaa67d4.js\" type=\"text/javascript\"></script>\n",
       "<script nonce=\"\">\n",
       "  if (!window.__SCRIPTS_LOADED__['main']) {\n",
       "    document.getElementById('ScriptLoadFailure').style.display = 'block';\n",
       "  }\n",
       "</script>\n",
       "</body></html>"
      ]
     },
     "execution_count": 8,
     "metadata": {},
     "output_type": "execute_result"
    }
   ],
   "source": [
    "html = browser.html\n",
    "soup3 = BeautifulSoup(html, 'html.parser')\n",
    "soup3"
   ]
  },
  {
   "cell_type": "code",
   "execution_count": 9,
   "metadata": {},
   "outputs": [
    {
     "name": "stdout",
     "output_type": "stream",
     "text": [
      "<!DOCTYPE html>\n",
      "<html dir=\"ltr\" lang=\"en\" xmlns=\"http://www.w3.org/1999/xhtml\">\n",
      " <head>\n",
      "  <meta charset=\"utf-8\"/>\n",
      "  <meta content=\"width=device-width,initial-scale=1,maximum-scale=1,user-scalable=0,viewport-fit=cover\" name=\"viewport\"/>\n",
      "  <link href=\"//abs.twimg.com\" rel=\"preconnect\"/>\n",
      "  <link href=\"//api.twitter.com\" rel=\"preconnect\"/>\n",
      "  <link href=\"//pbs.twimg.com\" rel=\"preconnect\"/>\n",
      "  <link href=\"//t.co\" rel=\"preconnect\"/>\n",
      "  <link href=\"//video.twimg.com\" rel=\"preconnect\"/>\n",
      "  <link href=\"//abs.twimg.com\" rel=\"dns-prefetch\"/>\n",
      "  <link href=\"//api.twitter.com\" rel=\"dns-prefetch\"/>\n",
      "  <link href=\"//pbs.twimg.com\" rel=\"dns-prefetch\"/>\n",
      "  <link href=\"//t.co\" rel=\"dns-prefetch\"/>\n",
      "  <link href=\"//video.twimg.com\" rel=\"dns-prefetch\"/>\n",
      "  <link as=\"script\" crossorigin=\"anonymous\" href=\"https://abs.twimg.com/responsive-web/web/polyfills.bab5fe74.js\" nonce=\"\" rel=\"preload\"/>\n",
      "  <link as=\"script\" crossorigin=\"anonymous\" href=\"https://abs.twimg.com/responsive-web/web/vendors~main.e0482f54.js\" nonce=\"\" rel=\"preload\"/>\n",
      "  <link as=\"script\" crossorigin=\"anonymous\" href=\"https://abs.twimg.com/responsive-web/web/i18n-rweb/en.5ba57774.js\" nonce=\"\" rel=\"preload\"/>\n",
      "  <link as=\"script\" crossorigin=\"anonymous\" href=\"https://abs.twimg.com/responsive-web/web/i18n-horizon/en.9dc24af4.js\" nonce=\"\" rel=\"preload\"/>\n",
      "  <link as=\"script\" crossorigin=\"anonymous\" href=\"https://abs.twimg.com/responsive-web/web/main.9aaa67d4.js\" nonce=\"\" rel=\"preload\"/>\n",
      "  <meta content=\"2231777543\" property=\"fb:app_id\"/>\n",
      "  <meta content=\"Twitter\" property=\"og:site_name\"/>\n",
      "  <meta content=\"V0yIS0Ec_o3Ii9KThrCoMCkwTYMMJ_JYx_RSaGhFYvw\" name=\"google-site-verification\"/>\n",
      "  <link crossorigin=\"use-credentials\" href=\"/manifest.json\" rel=\"manifest\"/>\n",
      "  <link href=\"https://twitter.com/marswxreport?lang=en\" hreflang=\"x-default\" rel=\"alternate\"/>\n",
      "  <link href=\"https://twitter.com/marswxreport?lang=ar\" hreflang=\"ar\" rel=\"alternate\"/>\n",
      "  <link href=\"https://twitter.com/marswxreport?lang=bg\" hreflang=\"bg\" rel=\"alternate\"/>\n",
      "  <link href=\"https://twitter.com/marswxreport?lang=bn\" hreflang=\"bn\" rel=\"alternate\"/>\n",
      "  <link href=\"https://twitter.com/marswxreport?lang=ca\" hreflang=\"ca\" rel=\"alternate\"/>\n",
      "  <link href=\"https://twitter.com/marswxreport?lang=cs\" hreflang=\"cs\" rel=\"alternate\"/>\n",
      "  <link href=\"https://twitter.com/marswxreport?lang=da\" hreflang=\"da\" rel=\"alternate\"/>\n",
      "  <link href=\"https://twitter.com/marswxreport?lang=de\" hreflang=\"de\" rel=\"alternate\"/>\n",
      "  <link href=\"https://twitter.com/marswxreport?lang=el\" hreflang=\"el\" rel=\"alternate\"/>\n",
      "  <link href=\"https://twitter.com/marswxreport?lang=en\" hreflang=\"en\" rel=\"alternate\"/>\n",
      "  <link href=\"https://twitter.com/marswxreport?lang=en-GB\" hreflang=\"en-GB\" rel=\"alternate\"/>\n",
      "  <link href=\"https://twitter.com/marswxreport?lang=es\" hreflang=\"es\" rel=\"alternate\"/>\n",
      "  <link href=\"https://twitter.com/marswxreport?lang=eu\" hreflang=\"eu\" rel=\"alternate\"/>\n",
      "  <link href=\"https://twitter.com/marswxreport?lang=fa\" hreflang=\"fa\" rel=\"alternate\"/>\n",
      "  <link href=\"https://twitter.com/marswxreport?lang=fi\" hreflang=\"fi\" rel=\"alternate\"/>\n",
      "  <link href=\"https://twitter.com/marswxreport?lang=tl\" hreflang=\"tl\" rel=\"alternate\"/>\n",
      "  <link href=\"https://twitter.com/marswxreport?lang=fr\" hreflang=\"fr\" rel=\"alternate\"/>\n",
      "  <link href=\"https://twitter.com/marswxreport?lang=ga\" hreflang=\"ga\" rel=\"alternate\"/>\n",
      "  <link href=\"https://twitter.com/marswxreport?lang=gl\" hreflang=\"gl\" rel=\"alternate\"/>\n",
      "  <link href=\"https://twitter.com/marswxreport?lang=gu\" hreflang=\"gu\" rel=\"alternate\"/>\n",
      "  <link href=\"https://twitter.com/marswxreport?lang=he\" hreflang=\"he\" rel=\"alternate\"/>\n",
      "  <link href=\"https://twitter.com/marswxreport?lang=hi\" hreflang=\"hi\" rel=\"alternate\"/>\n",
      "  <link href=\"https://twitter.com/marswxreport?lang=hr\" hreflang=\"hr\" rel=\"alternate\"/>\n",
      "  <link href=\"https://twitter.com/marswxreport?lang=hu\" hreflang=\"hu\" rel=\"alternate\"/>\n",
      "  <link href=\"https://twitter.com/marswxreport?lang=id\" hreflang=\"id\" rel=\"alternate\"/>\n",
      "  <link href=\"https://twitter.com/marswxreport?lang=it\" hreflang=\"it\" rel=\"alternate\"/>\n",
      "  <link href=\"https://twitter.com/marswxreport?lang=ja\" hreflang=\"ja\" rel=\"alternate\"/>\n",
      "  <link href=\"https://twitter.com/marswxreport?lang=kn\" hreflang=\"kn\" rel=\"alternate\"/>\n",
      "  <link href=\"https://twitter.com/marswxreport?lang=ko\" hreflang=\"ko\" rel=\"alternate\"/>\n",
      "  <link href=\"https://twitter.com/marswxreport?lang=mr\" hreflang=\"mr\" rel=\"alternate\"/>\n",
      "  <link href=\"https://twitter.com/marswxreport?lang=ms\" hreflang=\"ms\" rel=\"alternate\"/>\n",
      "  <link href=\"https://twitter.com/marswxreport?lang=nb\" hreflang=\"nb\" rel=\"alternate\"/>\n",
      "  <link href=\"https://twitter.com/marswxreport?lang=nl\" hreflang=\"nl\" rel=\"alternate\"/>\n",
      "  <link href=\"https://twitter.com/marswxreport?lang=pl\" hreflang=\"pl\" rel=\"alternate\"/>\n",
      "  <link href=\"https://twitter.com/marswxreport?lang=pt\" hreflang=\"pt\" rel=\"alternate\"/>\n",
      "  <link href=\"https://twitter.com/marswxreport?lang=ro\" hreflang=\"ro\" rel=\"alternate\"/>\n",
      "  <link href=\"https://twitter.com/marswxreport?lang=ru\" hreflang=\"ru\" rel=\"alternate\"/>\n",
      "  <link href=\"https://twitter.com/marswxreport?lang=sk\" hreflang=\"sk\" rel=\"alternate\"/>\n",
      "  <link href=\"https://twitter.com/marswxreport?lang=sr\" hreflang=\"sr\" rel=\"alternate\"/>\n",
      "  <link href=\"https://twitter.com/marswxreport?lang=sv\" hreflang=\"sv\" rel=\"alternate\"/>\n",
      "  <link href=\"https://twitter.com/marswxreport?lang=ta\" hreflang=\"ta\" rel=\"alternate\"/>\n",
      "  <link href=\"https://twitter.com/marswxreport?lang=th\" hreflang=\"th\" rel=\"alternate\"/>\n",
      "  <link href=\"https://twitter.com/marswxreport?lang=tr\" hreflang=\"tr\" rel=\"alternate\"/>\n",
      "  <link href=\"https://twitter.com/marswxreport?lang=uk\" hreflang=\"uk\" rel=\"alternate\"/>\n",
      "  <link href=\"https://twitter.com/marswxreport?lang=ur\" hreflang=\"ur\" rel=\"alternate\"/>\n",
      "  <link href=\"https://twitter.com/marswxreport?lang=vi\" hreflang=\"vi\" rel=\"alternate\"/>\n",
      "  <link href=\"https://twitter.com/marswxreport?lang=zh\" hreflang=\"zh\" rel=\"alternate\"/>\n",
      "  <link href=\"https://twitter.com/marswxreport?lang=zh-Hant\" hreflang=\"zh-Hant\" rel=\"alternate\"/>\n",
      "  <link data-rdm=\"\" href=\"https://twitter.com/marswxreport\" rel=\"canonical\"/>\n",
      "  <link color=\"#1da1f2\" href=\"https://abs.twimg.com/responsive-web/web/icon-svg.9e211f64.svg\" rel=\"mask-icon\" sizes=\"any\"/>\n",
      "  <link href=\"//abs.twimg.com/favicons/twitter.ico\" rel=\"shortcut icon\" type=\"image/x-icon\"/>\n",
      "  <link href=\"https://abs.twimg.com/responsive-web/web/icon-ios.8ea219d4.png\" rel=\"apple-touch-icon\" sizes=\"192x192\"/>\n",
      "  <meta content=\"yes\" name=\"mobile-web-app-capable\"/>\n",
      "  <meta content=\"Twitter\" name=\"apple-mobile-web-app-title\"/>\n",
      "  <meta content=\"white\" name=\"apple-mobile-web-app-status-bar-style\"/>\n",
      "  <meta content=\"#ffffff\" name=\"theme-color\"/>\n",
      "  <meta content=\"Ap6SMBNB0lQoXpXl4I9vyTJqJ7Y0X9tPd6Q6rN697iHdubQQxBcWHy21N3N7uEz7Ba5UKMbN+eLvDczBSbi27AsAAABfeyJvcmlnaW4iOiJodHRwczovL3R3aXR0ZXIuY29tOjQ0MyIsImZlYXR1cmUiOiJCYWRnaW5nIiwiZXhwaXJ5IjoxNTY0NTgyNzY2LCJpc1N1YmRvbWFpbiI6dHJ1ZX0=\" http-equiv=\"origin-trial\"/>\n",
      "  <meta content=\"Apir4chqTX+4eFxKD+ErQlKRB/VtZ/dvnLfd9Y9Nenl5r1xJcf81alryTHYQiuUlz9Q49MqGXqyaiSmqWzHUqQwAAABneyJvcmlnaW4iOiJodHRwczovL3R3aXR0ZXIuY29tOjQ0MyIsImZlYXR1cmUiOiJDb250YWN0c01hbmFnZXIiLCJleHBpcnkiOjE1NzUwMzUyODMsImlzU3ViZG9tYWluIjp0cnVlfQ==\" http-equiv=\"origin-trial\"/>\n",
      "  <meta content=\"AleGS26SZL7UA8Fe1DbvXzoay74bPTvrfKKGimIu1RI8vA+RtXOSVlizUkz2zU/fQoFoOTgCiCciP6pM5teaeQgAAABjeyJvcmlnaW4iOiJodHRwczovL3R3aXR0ZXIuY29tOjQ0MyIsImZlYXR1cmUiOiJTbXNSZWNlaXZlciIsImV4cGlyeSI6MTU3OTAyMDkyMSwiaXNTdWJkb21haW4iOnRydWV9\" http-equiv=\"origin-trial\"/>\n",
      "  <style>\n",
      "   html,body{height: 100%;}body{-ms-overflow-style:scrollbar;overflow-y:scroll;overscroll-behavior-y:none;}\n",
      "  </style>\n",
      "  <style id=\"react-native-stylesheet\">\n",
      "   [stylesheet-group=\"0\"]{}\n",
      "html{-ms-text-size-adjust:100%;-webkit-text-size-adjust:100%;-webkit-tap-highlight-color:rgba(0,0,0,0);}\n",
      "body{margin:0;}\n",
      "button::-moz-focus-inner,input::-moz-focus-inner{border:0;padding:0;}\n",
      "input::-webkit-inner-spin-button,input::-webkit-outer-spin-button,input::-webkit-search-cancel-button,input::-webkit-search-decoration,input::-webkit-search-results-button,input::-webkit-search-results-decoration{display:none;}\n",
      "[stylesheet-group=\"0.1\"]{}\n",
      ":focus:not([data-focusvisible-polyfill]){outline: none;}\n",
      "[stylesheet-group=\"1\"]{}\n",
      ".css-1dbjc4n{-ms-flex-align:stretch;-ms-flex-direction:column;-ms-flex-negative:0;-ms-flex-preferred-size:auto;-webkit-align-items:stretch;-webkit-box-align:stretch;-webkit-box-direction:normal;-webkit-box-orient:vertical;-webkit-flex-basis:auto;-webkit-flex-direction:column;-webkit-flex-shrink:0;align-items:stretch;border:0 solid black;box-sizing:border-box;display:-webkit-box;display:-moz-box;display:-ms-flexbox;display:-webkit-flex;display:flex;flex-basis:auto;flex-direction:column;flex-shrink:0;margin-bottom:0px;margin-left:0px;margin-right:0px;margin-top:0px;min-height:0px;min-width:0px;padding-bottom:0px;padding-left:0px;padding-right:0px;padding-top:0px;position:relative;z-index:0;}\n",
      ".css-901oao{border:0 solid black;box-sizing:border-box;color:rgba(0,0,0,1.00);display:inline;font:14px system-ui,-apple-system,BlinkMacSystemFont,\"Segoe UI\",Roboto,Ubuntu,\"Helvetica Neue\",sans-serif;margin-bottom:0px;margin-left:0px;margin-right:0px;margin-top:0px;padding-bottom:0px;padding-left:0px;padding-right:0px;padding-top:0px;white-space:pre-wrap;word-wrap:break-word;}\n",
      ".css-16my406{color:inherit;font:inherit;white-space:inherit;}\n",
      "[stylesheet-group=\"2\"]{}\n",
      ".r-13awgt0{-ms-flex-negative:1;-ms-flex-positive:1;-ms-flex-preferred-size:0%;-webkit-box-flex:1;-webkit-flex-basis:0%;-webkit-flex-grow:1;-webkit-flex-shrink:1;flex-basis:0%;flex-grow:1;flex-shrink:1;}\n",
      ".r-4qtqp9{display:inline-block;}\n",
      ".r-ywje51{margin-bottom:auto;margin-left:auto;margin-right:auto;margin-top:auto;}\n",
      ".r-hvic4v{display:none;}\n",
      ".r-1adg3ll{display:block;}\n",
      "[stylesheet-group=\"2.2\"]{}\n",
      ".r-12vffkv&gt;*{pointer-events:auto;}\n",
      ".r-12vffkv{pointer-events:none!important;}\n",
      ".r-14lw9ot{background-color:rgba(255,255,255,1.00);}\n",
      ".r-1p0dtai{bottom:0px;}\n",
      ".r-1d2f490{left:0px;}\n",
      ".r-1xcajam{position:fixed;}\n",
      ".r-zchlnj{right:0px;}\n",
      ".r-ipm5af{top:0px;}\n",
      ".r-yyyyoo{fill:currentcolor;}\n",
      ".r-1xvli5t{height:1.25em;}\n",
      ".r-dnmrzs{max-width:100%;}\n",
      ".r-bnwqim{position:relative;}\n",
      ".r-1plcrui{vertical-align:text-bottom;}\n",
      ".r-lrvibr{-moz-user-select:none;-ms-user-select:none;-webkit-user-select:none;user-select:none;}\n",
      ".r-13gxpu9{color:rgba(29,161,242,1.00);}\n",
      ".r-wy61xf{height:72px;}\n",
      ".r-u8s1d{position:absolute;}\n",
      ".r-1blnp2b{width:72px;}\n",
      ".r-1ykxob0{top:60%;}\n",
      ".r-1b2b6em{line-height:2em;}\n",
      ".r-q4m81j{text-align:center;}\n",
      "  </style>\n",
      " </head>\n",
      " <body>\n",
      "  <noscript>\n",
      "   &lt;form action=\"https://mobile.twitter.com/i/nojs_router?path=%2Fmarswxreport%3Flang%3Den\" method=\"POST\" style=\"background-color: #fff; position: fixed; top: 0; left: 0; right: 0; bottom: 0; z-index: 9999;\"&gt;\n",
      "      &lt;div style=\"font-size: 18px; font-family: Helvetica,sans-serif; line-height: 24px; margin: 10%; width: 80%;\"&gt;\n",
      "        &lt;p&gt;We've detected that JavaScript is disabled in your browser. Would you like to proceed to legacy Twitter?&lt;/p&gt;\n",
      "        &lt;p style=\"margin: 20px 0;\"&gt;\n",
      "          &lt;button type=\"submit\" style=\"background-color: #1da1f2; border-radius: 100px; border: none; box-shadow: none; color: #fff; cursor: pointer; font-size: 14px; font-weight: bold; line-height: 20px; padding: 6px 16px;\"&gt;Yes&lt;/button&gt;\n",
      "        &lt;/p&gt;\n",
      "      &lt;/div&gt;\n",
      "    &lt;/form&gt;\n",
      "  </noscript>\n",
      "  <div id=\"react-root\" style=\"height:100%;display:flex;\">\n",
      "   <div class=\"css-1dbjc4n r-13awgt0 r-12vffkv\" data-reactroot=\"\">\n",
      "    <div class=\"css-1dbjc4n r-13awgt0 r-12vffkv\">\n",
      "     <div aria-label=\"Loading…\" class=\"css-1dbjc4n r-14lw9ot r-1p0dtai r-1d2f490 r-1xcajam r-zchlnj r-ipm5af\">\n",
      "      <svg class=\"r-1p0dtai r-13gxpu9 r-4qtqp9 r-yyyyoo r-wy61xf r-1d2f490 r-ywje51 r-dnmrzs r-u8s1d r-zchlnj r-1plcrui r-ipm5af r-lrvibr r-1blnp2b\" viewbox=\"0 0 24 24\" xmlns=\"http://www.w3.org/2000/svg\">\n",
      "       <g>\n",
      "        <path d=\"M23.643 4.937c-.835.37-1.732.62-2.675.733.962-.576 1.7-1.49 2.048-2.578-.9.534-1.897.922-2.958 1.13-.85-.904-2.06-1.47-3.4-1.47-2.572 0-4.658 2.086-4.658 4.66 0 .364.042.718.12 1.06-3.873-.195-7.304-2.05-9.602-4.868-.4.69-.63 1.49-.63 2.342 0 1.616.823 3.043 2.072 3.878-.764-.025-1.482-.234-2.11-.583v.06c0 2.257 1.605 4.14 3.737 4.568-.392.106-.803.162-1.227.162-.3 0-.593-.028-.877-.082.593 1.85 2.313 3.198 4.352 3.234-1.595 1.25-3.604 1.995-5.786 1.995-.376 0-.747-.022-1.112-.065 2.062 1.323 4.51 2.093 7.14 2.093 8.57 0 13.255-7.098 13.255-13.254 0-.2-.005-.402-.014-.602.91-.658 1.7-1.477 2.323-2.41z\">\n",
      "        </path>\n",
      "       </g>\n",
      "      </svg>\n",
      "     </div>\n",
      "     <div class=\"css-1dbjc4n r-hvic4v r-1d2f490 r-1xcajam r-zchlnj r-1ykxob0\" id=\"ScriptLoadFailure\">\n",
      "      <form action=\"\" method=\"GET\">\n",
      "       <div class=\"css-901oao r-1adg3ll r-1b2b6em r-q4m81j\" dir=\"auto\">\n",
      "        <span class=\"css-901oao css-16my406\" dir=\"auto\">\n",
      "         Something went wrong, but don’t fret — let’s give it another shot.\n",
      "        </span>\n",
      "        <br/>\n",
      "        <input type=\"submit\" value=\"Try again\"/>\n",
      "       </div>\n",
      "      </form>\n",
      "     </div>\n",
      "    </div>\n",
      "   </div>\n",
      "  </div>\n",
      "  <script nonce=\"\">\n",
      "   window.__INITIAL_STATE__ = {\"optimist\":[],\"featureSwitch\":{\"config\":{\"account_country_setting_countries_whitelist\":{\"value\":[\"ad\",\"ae\",\"af\",\"ag\",\"ai\",\"al\",\"am\",\"ao\",\"ar\",\"as\",\"at\",\"au\",\"aw\",\"ax\",\"az\",\"ba\",\"bb\",\"bd\",\"be\",\"bf\",\"bg\",\"bh\",\"bi\",\"bj\",\"bl\",\"bm\",\"bn\",\"bo\",\"bq\",\"br\",\"bs\",\"bt\",\"bv\",\"bw\",\"by\",\"bz\",\"ca\",\"cc\",\"cd\",\"cf\",\"cg\",\"ch\",\"ci\",\"ck\",\"cl\",\"cm\",\"co\",\"cr\",\"cu\",\"cv\",\"cw\",\"cx\",\"cy\",\"cz\",\"de\",\"dj\",\"dk\",\"dm\",\"do\",\"dz\",\"ec\",\"ee\",\"eg\",\"er\",\"es\",\"et\",\"fi\",\"fj\",\"fk\",\"fm\",\"fo\",\"fr\",\"ga\",\"gb\",\"gd\",\"ge\",\"gf\",\"gg\",\"gh\",\"gi\",\"gl\",\"gm\",\"gn\",\"gp\",\"gq\",\"gr\",\"gs\",\"gt\",\"gu\",\"gw\",\"gy\",\"hk\",\"hn\",\"hr\",\"ht\",\"hu\",\"id\",\"ie\",\"il\",\"im\",\"in\",\"io\",\"iq\",\"ir\",\"is\",\"it\",\"je\",\"jm\",\"jo\",\"jp\",\"ke\",\"kg\",\"kh\",\"ki\",\"km\",\"kn\",\"kr\",\"kw\",\"ky\",\"kz\",\"la\",\"lb\",\"lc\",\"li\",\"lk\",\"lr\",\"ls\",\"lt\",\"lu\",\"lv\",\"ly\",\"ma\",\"mc\",\"md\",\"me\",\"mf\",\"mg\",\"mh\",\"mk\",\"ml\",\"mn\",\"mo\",\"mp\",\"mq\",\"mr\",\"ms\",\"mt\",\"mu\",\"mv\",\"mw\",\"mx\",\"my\",\"mz\",\"na\",\"nc\",\"ne\",\"nf\",\"ng\",\"ni\",\"nl\",\"no\",\"np\",\"nr\",\"nu\",\"nz\",\"om\",\"pa\",\"pe\",\"pf\",\"pg\",\"ph\",\"pk\",\"pl\",\"pm\",\"pn\",\"pr\",\"ps\",\"pt\",\"pw\",\"py\",\"qa\",\"re\",\"ro\",\"rs\",\"ru\",\"rw\",\"sa\",\"sb\",\"sc\",\"se\",\"sg\",\"sh\",\"si\",\"sk\",\"sl\",\"sm\",\"sn\",\"so\",\"sr\",\"st\",\"sv\",\"sx\",\"sz\",\"tc\",\"td\",\"tf\",\"tg\",\"th\",\"tj\",\"tk\",\"tl\",\"tm\",\"tn\",\"to\",\"tr\",\"tt\",\"tv\",\"tw\",\"tz\",\"ua\",\"ug\",\"us\",\"uy\",\"uz\",\"va\",\"vc\",\"ve\",\"vi\",\"vn\",\"vu\",\"wf\",\"ws\",\"xk\",\"ye\",\"yt\",\"za\",\"zm\",\"zw\"]},\"author_moderated_replies_urt_container_enabled\":{\"value\":false},\"content_language_setting_enabled\":{\"value\":true},\"conversation_controls_limited_replies_creation_enabled\":{\"value\":false},\"dm_reactions_config_active_reactions\":{\"value\":[\"😂:funny\",\"😲:surprised\",\"😢:sad\",\"❤:like\",\"🔥:excited\",\"👍:agree\",\"👎:disagree\"]},\"dm_reactions_config_inactive_reactions\":{\"value\":[\"😠:angry\"]},\"guest_broadcasting_timeline_decorations_enabled\":{\"value\":true},\"home_timeline_latest_timeline_autoswitch_half_life_minutes\":{\"value\":43200},\"home_timeline_latest_timeline_autoswitch_threshold_multiplier\":{\"value\":2},\"home_timeline_latest_timeline_max_time_to_autoswitch_minutes\":{\"value\":5256000},\"home_timeline_latest_timeline_min_time_to_autoswitch_minutes\":{\"value\":5256000},\"home_timeline_latest_timeline_switch_enabled\":{\"value\":true},\"home_timeline_latest_timeline_threshold_to_increase_autoswitch_seconds\":{\"value\":60},\"home_timeline_spheres_channel_copy_enabled\":{\"value\":false},\"home_timeline_spheres_detail_page_muting_enabled\":{\"value\":false},\"home_timeline_spheres_creation_and_edit_flows_enabled\":{\"value\":false},\"home_timeline_spheres_discovery_page_enabled\":{\"value\":false},\"home_timeline_spheres_max_user_owned_or_subscribed_lists_count\":{\"value\":0},\"home_timeline_spheres_management_page_enabled\":{\"value\":false},\"home_timeline_spheres_ranking_mode_control_enabled\":{\"value\":true},\"live_event_multi_video_auto_advance_dock_enabled\":{\"value\":true},\"live_event_multi_video_auto_advance_enabled\":{\"value\":true},\"live_event_multi_video_auto_advance_fullscreen_enabled\":{\"value\":false},\"live_event_multi_video_auto_advance_transition_duration_seconds\":{\"value\":5},\"live_event_multi_video_enabled\":{\"value\":true},\"live_event_timeline_default_refresh_rate_interval_seconds\":{\"value\":30},\"live_event_timeline_minimum_refresh_rate_interval_seconds\":{\"value\":10},\"live_event_timeline_server_controlled_refresh_rate_enabled\":{\"value\":true},\"live_event_vod_promoted_content_enabled\":{\"value\":false},\"live_event_docking_enabled\":{\"value\":true},\"livepipeline_client_enabled\":{\"value\":true},\"livepipeline_dm_features_enabled\":{\"value\":true},\"livepipeline_tweetengagement_enabled\":{\"value\":true},\"moment_annotations_enabled\":{\"value\":true},\"navigation_stack_referrer_param_enabled\":{\"value\":false},\"network_layer_503_backoff_mode\":{\"value\":\"disable\"},\"responsive_web_2fa_settings_change_copy_enabled\":{\"value\":true},\"responsive_web_alt_svc\":{\"value\":false},\"responsive_web_alt_text_badge_enabled\":{\"value\":false},\"responsive_web_alt_text_by_default_enabled\":{\"value\":false},\"responsive_web_alt_text_gif_default_text_enabled\":{\"value\":false},\"responsive_web_alt_text_gifs_enabled\":{\"value\":true},\"responsive_web_alt_text_max_length\":{\"value\":420},\"responsive_web_api_transition_enabled\":{\"value\":false},\"responsive_web_auto_logout_multiaccount_enabled\":{\"value\":true},\"responsive_web_auto_logout_restrictedauthtoken_enabled\":{\"value\":true},\"responsive_web_auto_logout_twid_enabled\":{\"value\":true},\"responsive_web_branch_download_links_enabled\":{\"value\":true},\"responsive_web_branch_sdk_enabled\":{\"value\":true},\"responsive_web_broadcast_page_card_enabled\":{\"value\":true},\"responsive_web_cleanup_macaw_swift_indexed_db\":{\"value\":true},\"responsive_web_continue_as_param_enabled\":{\"value\":true},\"responsive_web_continue_as_always_enabled\":{\"value\":false},\"responsive_web_conversation_tree_enabled\":{\"value\":false},\"responsive_web_conversation_tree_toggle\":{\"value\":false},\"responsive_web_conversation_tree_hide_tweet_actions\":{\"value\":false},\"responsive_web_conversation_tree_hide_tweet_action_counts\":{\"value\":false},\"responsive_web_conversation_tree_hide_caret\":{\"value\":false},\"responsive_web_csrf_clientside_enabled\":{\"value\":true},\"responsive_web_dark_mode_scrollbars_enabled\":{\"value\":false},\"responsive_web_desktop_app_reload_hard_ttl\":{\"value\":86400000},\"responsive_web_desktop_app_reload_nightly_reset_enabled\":{\"value\":false},\"responsive_web_desktop_app_reload_soft_ttl\":{\"value\":86400000},\"responsive_web_disable_access\":{\"value\":true},\"responsive_web_dm_typeahead_enabled\":{\"value\":false},\"responsive_web_dm_quick_access_enabled\":{\"value\":false},\"responsive_web_dm_quick_access_multi_draft_enabled\":{\"value\":true},\"responsive_web_dm_quick_access_multi_draft_with_text_enabled\":{\"value\":false},\"responsive_web_elevated_qt_api_enabled\":{\"value\":false},\"responsive_web_elevated_qt_ui_configuration\":{\"value\":\"\"},\"responsive_web_eu_countries\":{\"value\":[\"at\",\"be\",\"bg\",\"ch\",\"cy\",\"cz\",\"de\",\"dk\",\"ee\",\"es\",\"fi\",\"fr\",\"gb\",\"gr\",\"hr\",\"hu\",\"ie\",\"is\",\"it\",\"li\",\"lt\",\"lu\",\"lv\",\"mt\",\"nl\",\"no\",\"pl\",\"pt\",\"ro\",\"se\",\"si\",\"sk\"]},\"responsive_web_explore_as_lohp_enabled\":{\"value\":true},\"responsive_web_explore_tab_followup_enabled\":{\"value\":false},\"responsive_web_extension_compatibility_hide\":{\"value\":false},\"responsive_web_extension_compatibility_impression_guard\":{\"value\":true},\"responsive_web_extension_compatibility_override_param\":{\"value\":false},\"responsive_web_extension_compatibility_scribe\":{\"value\":true},\"responsive_web_extension_compatibility_size_threshold\":{\"value\":50},\"responsive_web_fake_root_twitter_domain_for_testing\":{\"value\":false},\"responsive_web_feature_switch_dash_enabled\":{\"value\":false},\"responsive_web_fetch_hashflags_on_boot\":{\"value\":true},\"responsive_web_framerate_tracking_home_enabled\":{\"value\":false},\"responsive_web_graphql_amr_timeline\":{\"value\":false},\"responsive_web_graphql_dark_reads_probability\":{\"value\":0},\"responsive_web_graphql_following\":{\"value\":true},\"responsive_web_graphql_list_crud\":{\"value\":true},\"responsive_web_graphql_list_management_timelines_enabled\":{\"value\":false},\"responsive_web_graphql_list_members_subscribers_enabled\":{\"value\":false},\"responsive_web_graphql_list_operations\":{\"value\":false},\"responsive_web_graphql_user_lists_blocked\":{\"value\":true},\"responsive_web_graphql_user_lists_followers_you_follow\":{\"value\":true},\"responsive_web_graphql_user_lists_muted\":{\"value\":true},\"responsive_web_graphql_verify_credentials_enabled\":{\"value\":true},\"responsive_web_guest_token_reporting\":{\"value\":true},\"responsive_web_hide_media_previews_enabled\":{\"value\":false},\"responsive_web_home_wait_for_seenIds_enabled\":{\"value\":false},\"responsive_web_horizon_video_player_enabled\":{\"value\":true},\"responsive_web_html_archive_renderer_enabled\":{\"value\":true},\"responsive_web_hw_cards_in_dms_enabled\":{\"value\":false},\"responsive_web_inline_login_field_prompts_enabled\":{\"value\":false},\"responsive_web_composer_multi_draft_enabled\":{\"value\":false},\"responsive_web_inline_reply_enabled\":{\"value\":false},\"responsive_web_inline_reply_with_fab_enabled\":{\"value\":false},\"responsive_web_instream_video_enabled\":{\"value\":false},\"responsive_web_live_video_parity_periscope_auth_enabled\":{\"value\":false},\"responsive_web_login_input_type_email_enabled\":{\"value\":false},\"responsive_web_login_signup_sheet_app_install_cta_enabled\":{\"value\":true},\"responsive_web_media_upload_eager_enabled\":{\"value\":true},\"responsive_web_media_upload_limit_2g\":{\"value\":250},\"responsive_web_media_upload_limit_3g\":{\"value\":1500},\"responsive_web_media_upload_limit_slow_2g\":{\"value\":150},\"responsive_web_media_upload_md5_hashing_enabled\":{\"value\":false},\"responsive_web_media_upload_target_jpg_pixels_per_byte\":{\"value\":1},\"responsive_web_media_viewer_m2_focal_tweet_media_enabled\":{\"value\":false},\"responsive_web_media_viewer_m2_sidebar_enabled\":{\"value\":true},\"responsive_web_media_viewer_m2_tweet_actions_bar_enabled\":{\"value\":true},\"responsive_web_moment_maker_enabled\":{\"value\":false},\"responsive_web_multiple_account_limit\":{\"value\":5},\"responsive_web_new_multi_account_ux_enabled\":{\"value\":true},\"responsive_web_news_camera_consume_enabled\":{\"value\":true},\"responsive_web_ntab_verified_mentions_vit_internal_dogfood\":{\"value\":false},\"responsive_web_ocf_sms_autoverify_enabled\":{\"value\":false},\"responsive_web_report_page_not_found\":{\"value\":false},\"responsive_web_rich_tweet_landing_enabled\":{\"value\":true},\"responsive_web_scheduling_edit_enabled\":{\"value\":false},\"responsive_web_scheduling_enabled\":{\"value\":false},\"responsive_web_scheduling_entry_point\":{\"value\":\"overflow\"},\"responsive_web_scroller_autopoll_enabled\":{\"value\":false},\"responsive_web_scroller_v3_enabled\":{\"value\":true},\"responsive_web_search_dms_enabled\":{\"value\":true},\"responsive_web_side_nav_enabled\":{\"value\":false},\"responsive_web_sports_carousel\":{\"value\":false},\"responsive_web_trends_setting_new_endpoints\":{\"value\":true},\"responsive_web_tweet_detail_to_tweet_enabled\":{\"value\":false},\"responsive_web_tweet_drafts_enabled\":{\"value\":false},\"responsive_web_tweets_pill_local_enabled\":{\"value\":false},\"responsive_web_unified_cards_live_event_enabled\":{\"value\":true},\"responsive_web_unified_cards_poll2choice_image_enabled\":{\"value\":false},\"responsive_web_unified_cards_poll2choice_video_enabled\":{\"value\":false},\"responsive_web_unified_cards_poll3choice_image_enabled\":{\"value\":false},\"responsive_web_unified_cards_poll3choice_video_enabled\":{\"value\":false},\"responsive_web_unified_cards_poll4choice_image_enabled\":{\"value\":false},\"responsive_web_unified_cards_poll4choice_video_enabled\":{\"value\":false},\"responsive_web_verification_v2_enabled\":{\"value\":true},\"responsive_web_video_native_fullscreen_enabled\":{\"value\":true},\"responsive_web_video_promoted_logging_enabled\":{\"value\":true},\"responsive_web_vod_muted_captions_enabled\":{\"value\":true},\"responsive_web_vs_config_desktop_assumed_item_height\":{\"value\":100},\"responsive_web_vs_config_resize_observer_enabled\":{\"value\":true},\"responsive_web_zipkin_api_requests_enabled\":{\"value\":false},\"scribe_api_error_sample_size\":{\"value\":0},\"scribe_api_sample_size\":{\"value\":100},\"scribe_cdn_host_list\":{\"value\":[\"si0.twimg.com\",\"si1.twimg.com\",\"si2.twimg.com\",\"si3.twimg.com\",\"a0.twimg.com\",\"a1.twimg.com\",\"a2.twimg.com\",\"a3.twimg.com\",\"abs.twimg.com\",\"amp.twimg.com\",\"o.twimg.com\",\"pbs.twimg.com\",\"pbs-eb.twimg.com\",\"pbs-ec.twimg.com\",\"pbs-v6.twimg.com\",\"pbs-h1.twimg.com\",\"pbs-h2.twimg.com\",\"video.twimg.com\",\"platform.twitter.com\",\"cdn.api.twitter.com\",\"ton.twimg.com\",\"v.cdn.vine.co\",\"mtc.cdn.vine.co\",\"edge.vncdn.co\",\"mid.vncdn.co\"]},\"scribe_cdn_sample_size\":{\"value\":50},\"scribe_enabled\":{\"value\":true},\"soft_interventions_forward_pivot_enabled\":{\"value\":true},\"topic_landing_page_enabled\":{\"value\":false},\"topics_descriptions_enabled\":{\"value\":false},\"topics_dismiss_control_enabled\":{\"value\":false},\"topics_new_mgmt_enabled\":{\"value\":false},\"tweet_limited_actions_config_enabled\":{\"value\":true},\"tweet_limited_actions_config_non_compliant\":{\"value\":[\"reply\",\"retweet\",\"like\",\"send_via_dm\",\"add_to_bookmarks\",\"add_to_moment\",\"pin_to_profile\",\"view_tweet_activity\",\"share_tweet_via\"]},\"user_display_name_max_limit\":{\"value\":50},\"web_video_hls_mp4_threshold_sec\":{\"value\":0},\"web_video_hlsjs_max_buffer_length_pause\":{\"value\":0},\"web_video_hlsjs_max_buffer_length_play\":{\"value\":0},\"web_video_hlsjs_version\":{\"value\":\"\"},\"responsive_web_graphql_followers_9209\":{\"value\":\"treatment\"}},\"debug\":{},\"impression_pointers\":{},\"impressions\":{},\"featureSetToken\":\"93484c50caba5fb6afb8859b47af60da49f4e5c3\",\"isLoaded\":true,\"isLoading\":false,\"keysRead\":{},\"settingsVersion\":\"b2c1b82657d5770613b95745c9208686\"},\"urt\":{},\"entities\":{\"users\":{\"entities\":{},\"errors\":{},\"fetchStatus\":{}},\"tweets\":{\"entities\":{},\"errors\":{},\"fetchStatus\":{}},\"cards\":{\"entities\":{},\"errors\":{},\"fetchStatus\":{}}},\"toasts\":[],\"devices\":{\"browserPush\":{\"fetchStatus\":\"none\",\"pushNotificationsPrompt\":{\"dismissed\":false,\"fetchStatus\":\"none\"},\"subscribed\":false,\"supported\":null},\"devices\":{\"data\":{\"emails\":[],\"phone_numbers\":[]},\"fetchStatus\":\"none\"},\"notificationSettings\":{\"push_settings\":{\"error\":null,\"fetchStatus\":\"none\"},\"push_settings_template\":{\"template\":{\"settings\":[]}},\"sms_settings\":{\"error\":null,\"fetchStatus\":\"none\"},\"sms_settings_template\":{\"template\":{\"settings\":[]}},\"checkin_time\":null}},\"typeaheadUsers\":{\"fetchStatus\":\"none\",\"users\":{},\"denylist\":{},\"lastUpdated\":0,\"index\":{}},\"session\":{\"country\":\"US\",\"emailLiteLoginEligibility\":{\"fetchStatus\":\"none\"},\"guestId\":\"158823434221365348\",\"language\":\"en\",\"oneFactorLoginEligibility\":{\"fetchStatus\":\"none\"}},\"settings\":{\"local\":{\"nextPushCheckin\":0,\"shouldAutoPlayGif\":false,\"scale\":\"normal\",\"themeColor\":\"blue\",\"highContrastEnabled\":false,\"themeBackground\":\"light\",\"loginPromptLastShown\":0,\"mediaPreviewsEnabled\":true,\"reducedMotionEnabled\":false,\"conversationTreeEnabled\":false,\"showTweetMediaDetailDrawer\":true},\"remote\":{\"settings\":{\"display_sensitive_media\":false},\"fetchStatus\":\"none\"},\"dataSaver\":{\"dataSaverMode\":false},\"transient\":{\"dtabBarInfo\":{\"dtabAll\":null,\"dtabRweb\":null,\"hide\":false},\"loginPromptShown\":false,\"lastViewedDmInboxPath\":\"/messages\",\"themeFocus\":\"\"}},\"hashflags\":{\"fetchStatus\":\"none\",\"hashflags\":{}}};\n",
      "window.__META_DATA__ = {\"env\":\"prod\",\"isFromDynamicRenderer\":false,\"isLoggedIn\":false,\"isRTL\":false,\"hasMultiAccountCookie\":false,\"userAgentRequestHeader\":\"Mozilla/5.0 (Windows NT 10.0; Win64; x64) AppleWebKit/537.36 (KHTML, like Gecko) Chrome/81.0.4044.129 Safari/537.36\",\"serverDate\":1588234342252,\"sha\":\"e27c8cc78e663e4f41ea2fd025a87c447471bd26\"};\n",
      "  </script>\n",
      "  <script nonce=\"\">\n",
      "   document.cookie = decodeURIComponent(\"gt=1255771964989419520; Max-Age=10800; Domain=.twitter.com; Path=/; Secure\");\n",
      "  </script>\n",
      "  <script charset=\"utf-8\" nonce=\"\" type=\"text/javascript\">\n",
      "   window.__SCRIPTS_LOADED__ = {};\n",
      "  !function(e){function n(n){for(var o,i,t=n[0],c=n[1],l=n[2],u=0,b=[];u&lt;t.length;u++)i=t[u],Object.prototype.hasOwnProperty.call(a,i)&amp;&amp;a[i]&amp;&amp;b.push(a[i][0]),a[i]=0;for(o in c)Object.prototype.hasOwnProperty.call(c,o)&amp;&amp;(e[o]=c[o]);for(m&amp;&amp;m(n);b.length;)b.shift()();return r.push.apply(r,l||[]),d()}function d(){for(var e,n=0;n&lt;r.length;n++){for(var d=r[n],o=!0,t=1;t&lt;d.length;t++){var c=d[t];0!==a[c]&amp;&amp;(o=!1)}o&amp;&amp;(r.splice(n--,1),e=i(i.s=d[0]))}return e}var o={},a={0:0},r=[];function i(n){if(o[n])return o[n].exports;var d=o[n]={i:n,l:!1,exports:{}};return e[n].call(d.exports,d,d.exports,i),d.l=!0,d.exports}i.e=function(e){var n=[],d=a[e];if(0!==d)if(d)n.push(d[2]);else{var o=new Promise((function(n,o){d=a[e]=[n,o]}));n.push(d[2]=o);var r,t=document.createElement(\"script\");t.charset=\"utf-8\",t.timeout=120,i.nc&amp;&amp;t.setAttribute(\"nonce\",i.nc),t.src=function(e){return i.p+\"\"+({2:\"shared~bundle.HomeTimeline\",3:\"shared~bundle.DirectMessages\",4:\"shared~bundle.UserProfile\",5:\"shared~bundle.Settings\",6:\"bundle.DMRichTextCompose~bundle.DirectMessages~loader.DMDrawer\",7:\"bundle.NewsCameraCapsule~loader.NewsCamera~loaders.video.VideoPlayerDefaultUI\",8:\"bundle.Display~bundle.Settings\",9:\"bundle.Explore~loader.ExploreSidebar\",10:\"bundle.LiveEvent~bundle.MomentMaker\",11:\"bundle.NewsCameraCapsule~loader.NewsCamera\",12:\"loaders.video.PlayerBase~ondemand.lex\",13:\"vendors~bundle.MomentMaker~ondemand.EditPinned\",14:\"bundle.AboutThisAd\",15:\"bundle.Account\",16:\"bundle.AdvancedSearch\",17:\"bundle.Bookmarks\",18:\"bundle.Broadcast\",19:\"bundle.Collection\",20:\"bundle.Compose\",21:\"bundle.ComposeMedia\",22:\"bundle.ConnectTab\",23:\"bundle.Conversation\",24:\"bundle.ConversationParticipants\",25:\"bundle.DMRichTextCompose\",26:\"bundle.DirectMessages\",27:\"bundle.Display\",28:\"bundle.Download\",29:\"bundle.Explore\",30:\"bundle.ExploreTopics\",31:\"bundle.FollowerRequests\",32:\"bundle.GenericTimeline\",33:\"bundle.GifSearch\",34:\"bundle.HomeTimeline\",35:\"bundle.KeyboardShortcuts\",36:\"bundle.LiveEvent\",37:\"bundle.LoggedOutHome\",38:\"bundle.Login\",39:\"bundle.Logout\",40:\"bundle.Moment\",41:\"bundle.MomentMaker\",42:\"bundle.MultiAccount\",43:\"bundle.NetworkInstrument\",44:\"bundle.NewsCameraCapsule\",45:\"bundle.NotificationDetail\",46:\"bundle.Notifications\",47:\"bundle.Ocf\",48:\"bundle.Place\",49:\"bundle.PlainTextCompose\",50:\"bundle.ProfileRedirect\",51:\"bundle.Report\",52:\"bundle.RichTextCompose\",53:\"bundle.Search\",54:\"bundle.Settings\",55:\"bundle.SettingsInternals\",56:\"bundle.SettingsProfile\",57:\"bundle.SettingsTransparency\",58:\"bundle.SmsLogin\",59:\"bundle.Topics\",60:\"bundle.Trends\",61:\"bundle.TweetActivity\",62:\"bundle.TweetMediaDetail\",63:\"bundle.TweetMediaTags\",64:\"bundle.Twitterversary\",65:\"bundle.UserAvatar\",66:\"bundle.UserFollowLists\",67:\"bundle.UserHeader\",68:\"bundle.UserLists\",69:\"bundle.UserMoments\",70:\"bundle.UserProfile\",71:\"bundle.UserProfileTimelines\",72:\"bundle.UserRedirect\",171:\"loader.AbsolutePower\",172:\"loader.AppModules\",173:\"loader.DMDrawer\",174:\"loader.DashMenu\",175:\"loader.ExploreSidebar\",176:\"loader.FeedbackSheet\",177:\"loader.FeedbackTombstone\",178:\"loader.HWCard\",179:\"loader.NewTweetsPill\",180:\"loader.NewsCamera\",181:\"loader.PeriscopeOverlay\",182:\"loader.ProfileClusterFollow\",183:\"loader.PushNotificationsPrompt\",184:\"loader.SideNav\",185:\"loader.SignupModule\",186:\"loader.TimelineGap\",187:\"loader.TimelineRenderer\",188:\"loader.TweetCurationActionMenu\",189:\"loader.TweetPhotos\",190:\"loader.Typeahead\",191:\"loader.WideLayout\",192:\"loader.graphQLDarkReads\",193:\"loaders.video.PlayerBase\",194:\"loaders.video.PlayerHls12\",195:\"loaders.video.PlayerHls13\",196:\"loaders.video.PlayerUi\",197:\"loaders.video.VideoPlayerDefaultUI\",199:\"ondemand.Balloons\",200:\"ondemand.CarouselScroller\",201:\"ondemand.ComposeScheduling\",202:\"ondemand.EditBirthdate\",203:\"ondemand.EditPinned\",204:\"ondemand.EmojiPicker\",205:\"ondemand.HoverCard\",206:\"ondemand.InlinePlayer\",207:\"ondemand.IntentPrompt\",208:\"ondemand.MicrosoftInterface\",209:\"ondemand.ProfileSidebar\",210:\"ondemand.SettingsInternals\",211:\"ondemand.countries-ar\",212:\"ondemand.countries-bg\",213:\"ondemand.countries-bn\",214:\"ondemand.countries-ca\",215:\"ondemand.countries-cs\",216:\"ondemand.countries-da\",217:\"ondemand.countries-de\",218:\"ondemand.countries-el\",219:\"ondemand.countries-en\",220:\"ondemand.countries-en-GB\",221:\"ondemand.countries-es\",222:\"ondemand.countries-eu\",223:\"ondemand.countries-fa\",224:\"ondemand.countries-fi\",225:\"ondemand.countries-fil\",226:\"ondemand.countries-fr\",227:\"ondemand.countries-ga\",228:\"ondemand.countries-gl\",229:\"ondemand.countries-gu\",230:\"ondemand.countries-he\",231:\"ondemand.countries-hi\",232:\"ondemand.countries-hr\",233:\"ondemand.countries-hu\",234:\"ondemand.countries-id\",235:\"ondemand.countries-it\",236:\"ondemand.countries-ja\",237:\"ondemand.countries-kn\",238:\"ondemand.countries-ko\",239:\"ondemand.countries-mr\",240:\"ondemand.countries-ms\",241:\"ondemand.countries-nb\",242:\"ondemand.countries-nl\",243:\"ondemand.countries-pl\",244:\"ondemand.countries-pt\",245:\"ondemand.countries-ro\",246:\"ondemand.countries-ru\",247:\"ondemand.countries-sk\",248:\"ondemand.countries-sr\",249:\"ondemand.countries-sv\",250:\"ondemand.countries-ta\",251:\"ondemand.countries-th\",252:\"ondemand.countries-tr\",253:\"ondemand.countries-uk\",254:\"ondemand.countries-ur\",255:\"ondemand.countries-zh\",256:\"ondemand.countries-zh-Hant\",257:\"ondemand.emoji.ar\",258:\"ondemand.emoji.bg\",259:\"ondemand.emoji.bn\",260:\"ondemand.emoji.ca\",261:\"ondemand.emoji.cs\",262:\"ondemand.emoji.da\",263:\"ondemand.emoji.de\",264:\"ondemand.emoji.el\",265:\"ondemand.emoji.en\",266:\"ondemand.emoji.en-GB\",267:\"ondemand.emoji.en-ss\",268:\"ondemand.emoji.en-xx\",269:\"ondemand.emoji.es\",270:\"ondemand.emoji.eu\",271:\"ondemand.emoji.fa\",272:\"ondemand.emoji.fi\",273:\"ondemand.emoji.fil\",274:\"ondemand.emoji.fr\",275:\"ondemand.emoji.ga\",276:\"ondemand.emoji.gl\",277:\"ondemand.emoji.gu\",278:\"ondemand.emoji.he\",279:\"ondemand.emoji.hi\",280:\"ondemand.emoji.hr\",281:\"ondemand.emoji.hu\",282:\"ondemand.emoji.id\",283:\"ondemand.emoji.it\",284:\"ondemand.emoji.ja\",285:\"ondemand.emoji.kn\",286:\"ondemand.emoji.ko\",287:\"ondemand.emoji.mr\",288:\"ondemand.emoji.ms\",289:\"ondemand.emoji.nb\",290:\"ondemand.emoji.nl\",291:\"ondemand.emoji.pl\",292:\"ondemand.emoji.pt\",293:\"ondemand.emoji.ro\",294:\"ondemand.emoji.ru\",295:\"ondemand.emoji.sk\",296:\"ondemand.emoji.sr\",297:\"ondemand.emoji.sv\",298:\"ondemand.emoji.ta\",299:\"ondemand.emoji.th\",300:\"ondemand.emoji.tr\",301:\"ondemand.emoji.uk\",302:\"ondemand.emoji.ur\",303:\"ondemand.emoji.vi\",304:\"ondemand.emoji.zh\",305:\"ondemand.emoji.zh-Hant\",306:\"ondemand.framerateTracking\",307:\"ondemand.lex\",309:\"vendors~bundle.DMRichTextCompose\",310:\"vendors~bundle.MomentMaker\",311:\"vendors~loaders.video.PlayerBase\",312:\"vendors~loaders.video.PlayerUi\",313:\"vendors~ondemand.EmojiPicker\"}[e]||e)+\".\"+{2:\"389a8bb\",3:\"cc5ccd3\",4:\"61e25c6\",5:\"f01c306\",6:\"519b5f2\",7:\"a9a5b28\",8:\"39f0932\",9:\"db7412d\",10:\"06e17eb\",11:\"ffef261\",12:\"41688ff\",13:\"98e37cd\",14:\"432f4cb\",15:\"ddf0c4b\",16:\"e111ed5\",17:\"10a4aa0\",18:\"9ab6b21\",19:\"a9081ec\",20:\"a6a0571\",21:\"b9808ce\",22:\"cf14ca4\",23:\"2a9da8d\",24:\"1df7f40\",25:\"ec102b4\",26:\"b2a025c\",27:\"20b69bb\",28:\"a06c681\",29:\"f825935\",30:\"7b739f1\",31:\"2d70078\",32:\"8ddae9f\",33:\"ab89cb0\",34:\"7bbcf31\",35:\"9001b84\",36:\"a1cc4db\",37:\"49ed4da\",38:\"11cad14\",39:\"919c969\",40:\"4167c00\",41:\"8e3c264\",42:\"af96929\",43:\"1b22505\",44:\"3c76969\",45:\"24bb4ac\",46:\"8c63d29\",47:\"c53e55f\",48:\"3e95573\",49:\"2073e68\",50:\"2e81ccc\",51:\"e77cf00\",52:\"f5205f0\",53:\"8cfee30\",54:\"44815e0\",55:\"f539113\",56:\"8f0baec\",57:\"5865a99\",58:\"5785292\",59:\"a02829f\",60:\"b2fa188\",61:\"3dac8e1\",62:\"d5321a8\",63:\"33f2dd4\",64:\"a90cfe7\",65:\"7e72cd6\",66:\"74aeba4\",67:\"a9b6fce\",68:\"e8ced53\",69:\"a97cb5e\",70:\"b4c40e4\",71:\"ad8f38a\",72:\"7ce04d3\",171:\"1a92163\",172:\"6dfb2a4\",173:\"840933f\",174:\"0b3d369\",175:\"0799ab6\",176:\"9d92d65\",177:\"c524cf4\",178:\"8dae40f\",179:\"ff96401\",180:\"49dbc76\",181:\"b0e6aae\",182:\"d37b20d\",183:\"91b6aab\",184:\"c15b8a7\",185:\"e6846b4\",186:\"f861369\",187:\"4a93fbd\",188:\"db60f58\",189:\"d7d7e65\",190:\"6e2393f\",191:\"aedde0f\",192:\"e8830bb\",193:\"6b6c1a5\",194:\"0ee25a6\",195:\"4ee8b5a\",196:\"0abd540\",197:\"5a431bb\",199:\"09931c9\",200:\"b5c2e2d\",201:\"ebfbf45\",202:\"7adb1c7\",203:\"a2d8c76\",204:\"c0ad3f6\",205:\"1c511f1\",206:\"6f75f26\",207:\"2b42f8a\",208:\"bf23028\",209:\"49fec07\",210:\"a20bcc7\",211:\"00ea181\",212:\"f346c53\",213:\"cb06b71\",214:\"82a9a89\",215:\"96db93c\",216:\"b4fb9d2\",217:\"a7bcaa8\",218:\"a18d72e\",219:\"6ce221d\",220:\"44bcafe\",221:\"1c6e19e\",222:\"c1a3227\",223:\"51f756a\",224:\"dd25f25\",225:\"f22bb31\",226:\"8854aa7\",227:\"913f8f8\",228:\"fa3c8d6\",229:\"2b09d5f\",230:\"7b601ac\",231:\"071131e\",232:\"0185d8d\",233:\"14c84aa\",234:\"44ae616\",235:\"a61c227\",236:\"adb5b36\",237:\"c6aa2a3\",238:\"c26126d\",239:\"44e305b\",240:\"21c37b1\",241:\"9223622\",242:\"de2c21a\",243:\"e49fa83\",244:\"92af350\",245:\"f44ae91\",246:\"bc9cdaa\",247:\"789baea\",248:\"933dbc4\",249:\"280192e\",250:\"12f5b0f\",251:\"f1ac300\",252:\"5bb60cd\",253:\"d78ddab\",254:\"22243e2\",255:\"68d889f\",256:\"ed00825\",257:\"0aa0b8a\",258:\"4d483cd\",259:\"2fbb0e9\",260:\"5b7ba46\",261:\"d353c54\",262:\"bb836b5\",263:\"068c6eb\",264:\"8f2c504\",265:\"907a976\",266:\"2bf9fb2\",267:\"7b3f5c3\",268:\"22f40d2\",269:\"f134395\",270:\"87c80ae\",271:\"7784bc4\",272:\"ba3dbdb\",273:\"31b6ae5\",274:\"06ce131\",275:\"c671011\",276:\"810884b\",277:\"94313fd\",278:\"ab0c332\",279:\"02a0d04\",280:\"6909e6a\",281:\"f39c15c\",282:\"175f256\",283:\"a8d01ce\",284:\"4de6581\",285:\"3726202\",286:\"6fc1b03\",287:\"059ef3c\",288:\"822b4c0\",289:\"5588182\",290:\"cf2aa64\",291:\"a6ae8c7\",292:\"1de4527\",293:\"ba0f1da\",294:\"bd1bb7b\",295:\"04836a5\",296:\"48e009a\",297:\"2d2f670\",298:\"da86d0c\",299:\"c38cf96\",300:\"7472c77\",301:\"21a05ba\",302:\"3534e0c\",303:\"232027e\",304:\"3ca5c01\",305:\"f9ea730\",306:\"c76d26b\",307:\"2dc2680\",309:\"e3ff29e\",310:\"3d0b19a\",311:\"c58c801\",312:\"2cf6da1\",313:\"53aa131\"}[e]+\"4.js\"}(e);var c=new Error;r=function(n){t.onerror=t.onload=null,clearTimeout(l);var d=a[e];if(0!==d){if(d){var o=n&amp;&amp;(\"load\"===n.type?\"missing\":n.type),r=n&amp;&amp;n.target&amp;&amp;n.target.src;c.message=\"Loading chunk \"+e+\" failed.\\n(\"+o+\": \"+r+\")\",c.name=\"ChunkLoadError\",c.type=o,c.request=r,d[1](c)}a[e]=void 0}};var l=setTimeout((function(){r({type:\"timeout\",target:t})}),12e4);t.onerror=t.onload=r,document.head.appendChild(t)}return Promise.all(n)},i.m=e,i.c=o,i.d=function(e,n,d){i.o(e,n)||Object.defineProperty(e,n,{enumerable:!0,get:d})},i.r=function(e){\"undefined\"!=typeof Symbol&amp;&amp;Symbol.toStringTag&amp;&amp;Object.defineProperty(e,Symbol.toStringTag,{value:\"Module\"}),Object.defineProperty(e,\"__esModule\",{value:!0})},i.t=function(e,n){if(1&amp;n&amp;&amp;(e=i(e)),8&amp;n)return e;if(4&amp;n&amp;&amp;\"object\"==typeof e&amp;&amp;e&amp;&amp;e.__esModule)return e;var d=Object.create(null);if(i.r(d),Object.defineProperty(d,\"default\",{enumerable:!0,value:e}),2&amp;n&amp;&amp;\"string\"!=typeof e)for(var o in e)i.d(d,o,function(n){return e[n]}.bind(null,o));return d},i.n=function(e){var n=e&amp;&amp;e.__esModule?function(){return e.default}:function(){return e};return i.d(n,\"a\",n),n},i.o=function(e,n){return Object.prototype.hasOwnProperty.call(e,n)},i.p=\"https://abs.twimg.com/responsive-web/web/\",i.oe=function(e){throw e};var t=window.webpackJsonp=window.webpackJsonp||[],c=t.push.bind(t);t.push=n,t=t.slice();for(var l=0;l&lt;t.length;l++)n(t[l]);var m=c;d()}([]),window.__SCRIPTS_LOADED__.runtime=!0;\n",
      "//# sourceMappingURL=runtime.91cb0214.js.map\n",
      "  </script>\n",
      "  <script charset=\"utf-8\" crossorigin=\"anonymous\" nonce=\"\" src=\"https://abs.twimg.com/responsive-web/web/polyfills.bab5fe74.js\" type=\"text/javascript\">\n",
      "  </script>\n",
      "  <script charset=\"utf-8\" crossorigin=\"anonymous\" nonce=\"\" src=\"https://abs.twimg.com/responsive-web/web/vendors~main.e0482f54.js\" type=\"text/javascript\">\n",
      "  </script>\n",
      "  <script charset=\"utf-8\" crossorigin=\"anonymous\" nonce=\"\" src=\"https://abs.twimg.com/responsive-web/web/i18n-rweb/en.5ba57774.js\" type=\"text/javascript\">\n",
      "  </script>\n",
      "  <script charset=\"utf-8\" crossorigin=\"anonymous\" nonce=\"\" src=\"https://abs.twimg.com/responsive-web/web/i18n-horizon/en.9dc24af4.js\" type=\"text/javascript\">\n",
      "  </script>\n",
      "  <script charset=\"utf-8\" crossorigin=\"anonymous\" nonce=\"\" src=\"https://abs.twimg.com/responsive-web/web/main.9aaa67d4.js\" type=\"text/javascript\">\n",
      "  </script>\n",
      "  <script nonce=\"\">\n",
      "   if (!window.__SCRIPTS_LOADED__['main']) {\n",
      "    document.getElementById('ScriptLoadFailure').style.display = 'block';\n",
      "  }\n",
      "  </script>\n",
      " </body>\n",
      "</html>\n"
     ]
    }
   ],
   "source": [
    "# Examine the results, then determine element that contains sought info\n",
    "print(soup3.prettify())"
   ]
  },
  {
   "cell_type": "code",
   "execution_count": 10,
   "metadata": {},
   "outputs": [
    {
     "ename": "AttributeError",
     "evalue": "'NoneType' object has no attribute 'find'",
     "output_type": "error",
     "traceback": [
      "\u001b[1;31m---------------------------------------------------------------------------\u001b[0m",
      "\u001b[1;31mAttributeError\u001b[0m                            Traceback (most recent call last)",
      "\u001b[1;32m<ipython-input-10-5bd763255081>\u001b[0m in \u001b[0;36m<module>\u001b[1;34m\u001b[0m\n\u001b[0;32m      2\u001b[0m \u001b[1;33m\u001b[0m\u001b[0m\n\u001b[0;32m      3\u001b[0m \u001b[1;33m\u001b[0m\u001b[0m\n\u001b[1;32m----> 4\u001b[1;33m \u001b[0mmain2\u001b[0m \u001b[1;33m=\u001b[0m \u001b[0mmain\u001b[0m\u001b[1;33m.\u001b[0m\u001b[0mfind\u001b[0m\u001b[1;33m(\u001b[0m\u001b[1;34m\"span\"\u001b[0m \u001b[1;33m,\u001b[0m \u001b[0mclass_\u001b[0m\u001b[1;33m=\u001b[0m \u001b[1;34m\"css-901oao css-16my406 r-1qd0xha r-ad9z0x r-bcqeeo r-qvutc0\"\u001b[0m\u001b[1;33m)\u001b[0m\u001b[1;33m\u001b[0m\u001b[1;33m\u001b[0m\u001b[0m\n\u001b[0m\u001b[0;32m      5\u001b[0m \u001b[0mprint\u001b[0m\u001b[1;33m(\u001b[0m\u001b[0mmain2\u001b[0m\u001b[1;33m.\u001b[0m\u001b[0mtext\u001b[0m\u001b[1;33m)\u001b[0m\u001b[1;33m\u001b[0m\u001b[1;33m\u001b[0m\u001b[0m\n",
      "\u001b[1;31mAttributeError\u001b[0m: 'NoneType' object has no attribute 'find'"
     ]
    }
   ],
   "source": [
    "main = soup3.find(\"div\", class_=\"css-901oao r-hkyrab r-1qd0xha r-a023e6 r-16dba41 r-ad9z0x r-bcqeeo r-bnwqim r-qvutc0\")\n",
    "\n",
    "\n",
    "main2 = main.find(\"span\" , class_= \"css-901oao css-16my406 r-1qd0xha r-ad9z0x r-bcqeeo r-qvutc0\")\n",
    "print(main2.text)"
   ]
  },
  {
   "cell_type": "markdown",
   "metadata": {},
   "source": [
    "### Mars Facts\n",
    "\n",
    "* Visit the Mars Facts webpage [here](https://space-facts.com/mars/) \n",
    "  and use Pandas to scrape the table containing facts about the planet including Diameter, Mass, etc.\n",
    "\n",
    "* Use Pandas to convert the data to a HTML table string."
   ]
  },
  {
   "cell_type": "code",
   "execution_count": 11,
   "metadata": {},
   "outputs": [
    {
     "data": {
      "text/plain": [
       "'<table border=\"1\" class=\"dataframe\">\\n  <thead>\\n    <tr style=\"text-align: right;\">\\n      <th></th>\\n      <th>mars</th>\\n      <th>info</th>\\n    </tr>\\n  </thead>\\n  <tbody>\\n    <tr>\\n      <th>0</th>\\n      <td>Equatorial Diameter:</td>\\n      <td>6,792 km</td>\\n    </tr>\\n    <tr>\\n      <th>1</th>\\n      <td>Polar Diameter:</td>\\n      <td>6,752 km</td>\\n    </tr>\\n    <tr>\\n      <th>2</th>\\n      <td>Mass:</td>\\n      <td>6.39 × 10^23 kg (0.11 Earths)</td>\\n    </tr>\\n    <tr>\\n      <th>3</th>\\n      <td>Moons:</td>\\n      <td>2 (Phobos &amp; Deimos)</td>\\n    </tr>\\n    <tr>\\n      <th>4</th>\\n      <td>Orbit Distance:</td>\\n      <td>227,943,824 km (1.38 AU)</td>\\n    </tr>\\n    <tr>\\n      <th>5</th>\\n      <td>Orbit Period:</td>\\n      <td>687 days (1.9 years)</td>\\n    </tr>\\n    <tr>\\n      <th>6</th>\\n      <td>Surface Temperature:</td>\\n      <td>-87 to -5 °C</td>\\n    </tr>\\n    <tr>\\n      <th>7</th>\\n      <td>First Record:</td>\\n      <td>2nd millennium BC</td>\\n    </tr>\\n    <tr>\\n      <th>8</th>\\n      <td>Recorded By:</td>\\n      <td>Egyptian astronomers</td>\\n    </tr>\\n  </tbody>\\n</table>'"
      ]
     },
     "execution_count": 11,
     "metadata": {},
     "output_type": "execute_result"
    }
   ],
   "source": [
    "import pandas as pd\n",
    "df = pd.read_html('https://space-facts.com/mars/')[0]\n",
    "df.columns = [\"mars\", \"info\"]\n",
    "df.to_html()"
   ]
  },
  {
   "cell_type": "markdown",
   "metadata": {},
   "source": [
    "### Mars Hemispheres"
   ]
  },
  {
   "cell_type": "markdown",
   "metadata": {},
   "source": [
    "### Mars Hemispheres\n",
    "\n",
    "* Visit the USGS Astrogeology site [here](https://astrogeology.usgs.gov/search/results?q=hemisphere+enhanced&k1=target&v1=Mars) to obtain high resolution images for each of Mar's hemispheres.\n",
    "\n",
    "* You will need to click each of the links to the hemispheres in order to find the image url to the full resolution image.\n",
    "\n",
    "* Save both the image url string for the full resolution hemisphere image, and the Hemisphere title containing the hemisphere name. Use a Python dictionary to store the data using the keys `img_url` and `title`.\n",
    "\n",
    "* Append the dictionary with the image url string and the hemisphere title to a list. This list will contain one dictionary for each hemisphere.\n",
    "\n",
    "```python\n",
    "# Example:\n",
    "hemisphere_image_urls = [\n",
    "    {\"title\": \"Valles Marineris Hemisphere\", \"img_url\": \"...\"},\n",
    "    {\"title\": \"Cerberus Hemisphere\", \"img_url\": \"...\"},\n",
    "    {\"title\": \"Schiaparelli Hemisphere\", \"img_url\": \"...\"},\n",
    "    {\"title\": \"Syrtis Major Hemisphere\", \"img_url\": \"...\"},\n",
    "]\n",
    "```\n"
   ]
  },
  {
   "cell_type": "code",
   "execution_count": 12,
   "metadata": {},
   "outputs": [],
   "source": [
    "url = 'https://astrogeology.usgs.gov/search/results?q=hemisphere+enhanced&k1=target&v1=Mars'\n",
    "browser.visit(url)\n",
    "\n"
   ]
  },
  {
   "cell_type": "code",
   "execution_count": 13,
   "metadata": {},
   "outputs": [
    {
     "name": "stderr",
     "output_type": "stream",
     "text": [
      "C:\\ProgramData\\Anaconda3\\lib\\site-packages\\splinter\\driver\\webdriver\\__init__.py:536: FutureWarning: browser.find_link_by_text is deprecated. Use browser.links.find_by_text instead.\n",
      "  FutureWarning,\n"
     ]
    }
   ],
   "source": [
    "hemisphere_img_urls = []\n",
    "links = browser.find_by_css('a.product-item h3')\n",
    "\n",
    "for i in range(len(links)):\n",
    "    hemisphere = {}\n",
    "    \n",
    "    browser.find_by_css('a.product-item h3')[i].click()\n",
    "    sample_result = browser.find_link_by_text('Sample').first\n",
    "    hemisphere['img_url']  = sample_result['href']\n",
    "    hemisphere['title'] = browser.find_by_css('h2.title').text\n",
    "    hemisphere_img_urls.append(hemisphere)\n",
    "    \n",
    "    browser.back()"
   ]
  },
  {
   "cell_type": "code",
   "execution_count": 14,
   "metadata": {},
   "outputs": [
    {
     "data": {
      "text/plain": [
       "[{'img_url': 'http://astropedia.astrogeology.usgs.gov/download/Mars/Viking/cerberus_enhanced.tif/full.jpg',\n",
       "  'title': 'Cerberus Hemisphere Enhanced'},\n",
       " {'img_url': 'http://astropedia.astrogeology.usgs.gov/download/Mars/Viking/schiaparelli_enhanced.tif/full.jpg',\n",
       "  'title': 'Schiaparelli Hemisphere Enhanced'},\n",
       " {'img_url': 'http://astropedia.astrogeology.usgs.gov/download/Mars/Viking/syrtis_major_enhanced.tif/full.jpg',\n",
       "  'title': 'Syrtis Major Hemisphere Enhanced'},\n",
       " {'img_url': 'http://astropedia.astrogeology.usgs.gov/download/Mars/Viking/valles_marineris_enhanced.tif/full.jpg',\n",
       "  'title': 'Valles Marineris Hemisphere Enhanced'}]"
      ]
     },
     "execution_count": 14,
     "metadata": {},
     "output_type": "execute_result"
    }
   ],
   "source": [
    "hemisphere_img_urls"
   ]
  },
  {
   "cell_type": "code",
   "execution_count": null,
   "metadata": {},
   "outputs": [],
   "source": []
  }
 ],
 "metadata": {
  "kernelspec": {
   "display_name": "Python 3",
   "language": "python",
   "name": "python3"
  },
  "language_info": {
   "codemirror_mode": {
    "name": "ipython",
    "version": 3
   },
   "file_extension": ".py",
   "mimetype": "text/x-python",
   "name": "python",
   "nbconvert_exporter": "python",
   "pygments_lexer": "ipython3",
   "version": "3.7.6"
  }
 },
 "nbformat": 4,
 "nbformat_minor": 4
}
